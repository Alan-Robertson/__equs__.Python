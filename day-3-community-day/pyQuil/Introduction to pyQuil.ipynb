{
 "cells": [
  {
   "cell_type": "markdown",
   "metadata": {},
   "source": [
    "# Introduction to Quantum Computing using PyQuil"
   ]
  },
  {
   "cell_type": "markdown",
   "metadata": {},
   "source": [
    "*make sure that qvm and quilc are running in server mode"
   ]
  },
  {
   "cell_type": "markdown",
   "metadata": {},
   "source": [
    "Quantum programs are written in Forest using the `Program` object. This `Program` abstraction will help us compose Quil programs."
   ]
  },
  {
   "cell_type": "code",
   "execution_count": 1,
   "metadata": {},
   "outputs": [],
   "source": [
    "from pyquil import Program"
   ]
  },
  {
   "cell_type": "markdown",
   "metadata": {},
   "source": [
    "#### Quantum states are complex vectors on the Bloch sphere, and quantum operations are matrices with two properties:\n",
    "\n",
    "They are reversible.\n",
    "When applied to a state vector on the Bloch sphere, the resulting vector is also on the Bloch sphere.\n",
    "Matrices that satisfy these two properties are called unitary matrices. Such matrices have the characteristic property that their complex conjugate transpose is equal to their inverse, a property directly linked to the requirement that the probabilities of measuring qubits in any of the allowed states must sum to 1. Applying an operation to a quantum state is the same as multiplying a vector by one of these matrices. Such an operation is called a gate.\n",
    "\n",
    "Since individual qubits are two-dimensional vectors, operations on individual qubits are 2x2 matrices. The identity matrix leaves the state vector unchanged:\n",
    "\n",
    "$$\n",
    "I = \\left(\\begin{matrix}\n",
    "1 & 0\\\\\n",
    "0 & 1\n",
    "\\end{matrix}\\right)\n",
    "$$\n",
    "so the a program that applies this operation to the zero state is just\n",
    "$$ I\\,|\\,0\\rangle = \\left(\\begin{matrix}\n",
    "1 & 0\\\\\n",
    "0 & 1\n",
    "\\end{matrix}\\right)\\left(\\begin{matrix}\n",
    "1 \\\\\n",
    "0 \n",
    "\\end{matrix}\\right) = \\left(\\begin{matrix}\n",
    "1 \\\\\n",
    "0 \n",
    "\\end{matrix}\\right) = |\\,0\\rangle$$"
   ]
  },
  {
   "cell_type": "markdown",
   "metadata": {},
   "source": [
    "Other standard gates on single qubits are given by the Pauli operator matrices\n",
    "$$\n",
    "X = \\left(\\begin{matrix}\n",
    "0 & 1\\\\\n",
    "1 & 0\n",
    "\\end{matrix}\\right)\n",
    "\\qquad\n",
    "Y = \\left(\\begin{matrix}\n",
    "0 & -i\\\\\n",
    "i & 0\n",
    "\\end{matrix}\\right)\n",
    "\\qquad\n",
    "Z = \\left(\\begin{matrix}\n",
    "1 & 0\\\\\n",
    "0 & -1\n",
    "\\end{matrix}\\right)\n",
    "$$\n",
    "\n",
    "A special single qubit operation is the Hadamard gate.\n",
    "\n",
    "$$\n",
    "H = \\frac{1}{\\sqrt{2}}\\left(\\begin{matrix}\n",
    "1 & 1\\\\\n",
    "1 & -1\n",
    "\\end{matrix}\\right)\n",
    "$$"
   ]
  },
  {
   "cell_type": "markdown",
   "metadata": {},
   "source": [
    "Operations can also be applied to composite states of multiple qubits. One common example is the controlled-not or CNOT gate that works on two qubits.  Its matrix form is:\n",
    "$$\n",
    "CNOT = \\left(\\begin{matrix}\n",
    "1 & 0 & 0 & 0 \\\\\n",
    "0 & 1 & 0 & 0 \\\\\n",
    "0 & 0 & 0 & 1 \\\\\n",
    "0 & 0 & 1 & 0 \\\\\n",
    "\\end{matrix}\\right)\n",
    "$$"
   ]
  },
  {
   "cell_type": "markdown",
   "metadata": {},
   "source": [
    "Programs are constructed by adding these quantum gates to it, which are defined in the `gates` module. We can import all standard gates with the following:"
   ]
  },
  {
   "cell_type": "code",
   "execution_count": 2,
   "metadata": {},
   "outputs": [],
   "source": [
    "from pyquil.gates import *"
   ]
  },
  {
   "cell_type": "markdown",
   "metadata": {},
   "source": [
    "Let’s instantiate a `Program` and add an operation to it. We will act an `X` gate on qubit 0."
   ]
  },
  {
   "cell_type": "code",
   "execution_count": 3,
   "metadata": {},
   "outputs": [],
   "source": [
    "p = Program()\n",
    "p += X(0)"
   ]
  },
  {
   "cell_type": "markdown",
   "metadata": {},
   "source": [
    "All qubits begin in the ground state. This means that if we measure a qubit without applying operations on it, we expect to receive a 0 result. The `X` gate will rotate qubit 0 from the ground state to the excited state, so a measurement immediately after should return a 1 result."
   ]
  },
  {
   "cell_type": "code",
   "execution_count": 4,
   "metadata": {},
   "outputs": [
    {
     "name": "stdout",
     "output_type": "stream",
     "text": [
      "(1+0j)|0>\n"
     ]
    }
   ],
   "source": [
    "from pyquil.api import WavefunctionSimulator\n",
    "\n",
    "wavefunction_simulator = WavefunctionSimulator()\n",
    "\n",
    "# basic one: the identity operation, called I. I takes one argument, the index\n",
    "# of the qubit that it should be applied to.\n",
    "# So let's make a quantum program that allocates one qubit (qubit #0) and does nothing to it\n",
    "p = Program(I(0))\n",
    "\n",
    "# quantum states are called wavefunctions for historical reasons\n",
    "# so we can run this basic program on our connection to the simulator.\n",
    "# This call will return the state of our qubits after we run program p.\n",
    "print(wavefunction_simulator.wavefunction(p))"
   ]
  },
  {
   "cell_type": "code",
   "execution_count": 44,
   "metadata": {},
   "outputs": [
    {
     "name": "stdout",
     "output_type": "stream",
     "text": [
      "Our qubit is in the state alpha=0j and beta=(1+0j)\n"
     ]
    }
   ],
   "source": [
    "# we can import the qubit \"flip\" operation (called X), which we'll talk about in the next section\n",
    "# and see what that does.\n",
    "p = Program(X(0))\n",
    "\n",
    "alpha, beta = wavefunction_simulator.wavefunction(p)\n",
    "print(\"Our qubit is in the state alpha={} and beta={}\".format(alpha, beta))"
   ]
  },
  {
   "cell_type": "markdown",
   "metadata": {},
   "source": [
    "# Multiple qubits also produce the expected scaling of the state"
   ]
  },
  {
   "cell_type": "code",
   "execution_count": 45,
   "metadata": {},
   "outputs": [
    {
     "name": "stdout",
     "output_type": "stream",
     "text": [
      "I 0\n",
      "I 1\n",
      " The quantum state is of dimension: 2\n",
      "\n",
      "I 0\n",
      "I 1\n",
      "I 2\n",
      "I 3\n",
      " The quantum state is of dimension: 4\n",
      "\n",
      "I 0\n",
      "I 1\n",
      "I 2\n",
      "I 3\n",
      "I 4\n",
      "I 5\n",
      "I 6\n",
      "I 7\n",
      "I 8\n",
      "I 9\n",
      " The quantum state is of dimension: 10\n"
     ]
    }
   ],
   "source": [
    "p = Program(I(0), I(1))\n",
    "print(p,\"The quantum state is of dimension:\", len(wavefunction_simulator.wavefunction(p)))\n",
    "print()\n",
    "\n",
    "p = Program(I(0), I(1), I(2), I(3))\n",
    "print(p,\"The quantum state is of dimension:\", len(wavefunction_simulator.wavefunction(p)))\n",
    "print()\n",
    "\n",
    "p = Program()\n",
    "for x in range(10):\n",
    "    p.inst(I(x))\n",
    "print(p,\"The quantum state is of dimension:\", len(wavefunction_simulator.wavefunction(p)))"
   ]
  },
  {
   "cell_type": "markdown",
   "metadata": {},
   "source": [
    "# Exploring gates with WavefunctionSimulator"
   ]
  },
  {
   "cell_type": "markdown",
   "metadata": {},
   "source": [
    "Lets visualize the following gates:\n",
    "$$\n",
    "X = \\left(\\begin{matrix}\n",
    "0 & 1\\\\\n",
    "1 & 0\n",
    "\\end{matrix}\\right)\n",
    "\\qquad\n",
    "Y = \\left(\\begin{matrix}\n",
    "0 & -i\\\\\n",
    "i & 0\n",
    "\\end{matrix}\\right)\n",
    "\\qquad\n",
    "Z = \\left(\\begin{matrix}\n",
    "1 & 0\\\\\n",
    "0 & -1\n",
    "\\end{matrix}\\right)\n",
    "\\qquad\n",
    "H = \\frac{1}{\\sqrt{2}}\\left(\\begin{matrix}\n",
    "1 & 1\\\\\n",
    "1 & -1\n",
    "\\end{matrix}\\right)\n",
    "$$"
   ]
  },
  {
   "cell_type": "code",
   "execution_count": 5,
   "metadata": {},
   "outputs": [
    {
     "name": "stdout",
     "output_type": "stream",
     "text": [
      "X|0> =  (1+0j)|1>\n",
      "The outcome probabilities are {'0': 0.0, '1': 1.0}\n",
      "This looks like a bit flip.\n",
      "\n",
      "Y|0> =  1j|1>\n",
      "The outcome probabilities are {'0': 0.0, '1': 1.0}\n",
      "This also looks like a bit flip.\n",
      "\n",
      "Z|0> =  (1+0j)|0>\n",
      "The outcome probabilities are {'0': 1.0, '1': 0.0}\n",
      "This state looks unchanged.\n",
      "\n",
      "H|0> =  (0.7071067812+0j)|0> + (0.7071067812+0j)|1>\n",
      "The outcome probabilities are {'0': 0.4999999999999999, '1': 0.4999999999999999}\n",
      "The qubit is in a superposition.\n"
     ]
    }
   ],
   "source": [
    "p = Program(X(0))\n",
    "wavefunction = wavefunction_simulator.wavefunction(p)\n",
    "print(\"X|0> = \", wavefunction)\n",
    "print(\"The outcome probabilities are\", wavefunction.get_outcome_probs())\n",
    "print(\"This looks like a bit flip.\\n\")\n",
    "\n",
    "p = Program(Y(0))\n",
    "wavefunction = wavefunction_simulator.wavefunction(p)\n",
    "print(\"Y|0> = \", wavefunction)\n",
    "print(\"The outcome probabilities are\", wavefunction.get_outcome_probs())\n",
    "print(\"This also looks like a bit flip.\\n\")\n",
    "\n",
    "p = Program(Z(0))\n",
    "wavefunction = wavefunction_simulator.wavefunction(p)\n",
    "print(\"Z|0> = \", wavefunction)\n",
    "print(\"The outcome probabilities are\", wavefunction.get_outcome_probs())\n",
    "print(\"This state looks unchanged.\\n\")\n",
    "\n",
    "p = Program(H(0))\n",
    "wavefunction = wavefunction_simulator.wavefunction(p)\n",
    "print(\"H|0> = \", wavefunction)\n",
    "print(\"The outcome probabilities are\", wavefunction.get_outcome_probs())\n",
    "print(\"The qubit is in a superposition.\")"
   ]
  },
  {
   "cell_type": "markdown",
   "metadata": {},
   "source": [
    "# The Quantum Abstract Machine"
   ]
  },
  {
   "cell_type": "markdown",
   "metadata": {},
   "source": [
    "We now have enough background to introduce the programming model that underlies Quil. This is a hybrid quantum-classical model in which \\(N\\) qubits interact with \\(M\\) classical bits.\n",
    "\n",
    "These qubits and classical bits come with a defined gate set, e.g. which gate operations can be applied to which qubits. Different kinds of quantum computing hardware place different limitations on what gates can be applied, and the fixed gate set represents these limitations.\n",
    "\n",
    "The next section on measurements will describe the interaction between the classical and quantum parts of a Quantum Abstract Machine (QAM)."
   ]
  },
  {
   "cell_type": "markdown",
   "metadata": {},
   "source": [
    "### Qubit Measurements"
   ]
  },
  {
   "cell_type": "markdown",
   "metadata": {},
   "source": [
    "Measurements have two effects:\n",
    "\n",
    "1. They project the state vector onto one of the basic outcomes\n",
    "2. (optional) They store the outcome of the measurement in a classical bit.\n",
    "\n",
    "Here's a simple example:"
   ]
  },
  {
   "cell_type": "code",
   "execution_count": 47,
   "metadata": {},
   "outputs": [],
   "source": [
    "# Create a program that stores the outcome of measuring qubit #0 into classical register [0]\n",
    "p = Program()\n",
    "classical_register = p.declare('ro', 'BIT', 1)\n",
    "p += Program(I(0)).measure(0, classical_register[0])"
   ]
  },
  {
   "cell_type": "markdown",
   "metadata": {},
   "source": [
    "Up until this point we have used the quantum simulator to cheat a little bit --- we have actually looked at the wavefunction that comes back. However, on real quantum hardware, we are unable to directly look at the wavefunction. Instead we only have access to the classical bits that are affected by measurements. This functionality is emulated by `QuantumComputer.run`. Note that the run command is to be applied on the compiled version of the program.\n"
   ]
  },
  {
   "cell_type": "code",
   "execution_count": 48,
   "metadata": {},
   "outputs": [
    {
     "name": "stdout",
     "output_type": "stream",
     "text": [
      "[[0]]\n"
     ]
    }
   ],
   "source": [
    "from pyquil import get_qc\n",
    "\n",
    "\n",
    "qc = get_qc('9q-square-qvm')\n",
    "print (qc.run(qc.compile(p)))\n"
   ]
  },
  {
   "cell_type": "markdown",
   "metadata": {},
   "source": [
    "We see that the classical register reports a value of zero. However, if we had flipped the qubit before measurement then we obtain:"
   ]
  },
  {
   "cell_type": "code",
   "execution_count": 50,
   "metadata": {},
   "outputs": [
    {
     "name": "stdout",
     "output_type": "stream",
     "text": [
      "[[1]]\n"
     ]
    }
   ],
   "source": [
    "p = Program()\n",
    "classical_register = p.declare('ro', 'BIT', 1)\n",
    "p += Program(X(0))   # Flip the qubit\n",
    "p.measure(0, classical_register[0])   # Measure the qubit\n",
    "\n",
    "print (qc.run(qc.compile(p)))"
   ]
  },
  {
   "cell_type": "markdown",
   "metadata": {},
   "source": [
    "These measurements are deterministic, e.g. if we make them multiple times then we always get the same outcome:\n",
    "\n"
   ]
  },
  {
   "cell_type": "code",
   "execution_count": 51,
   "metadata": {},
   "outputs": [
    {
     "name": "stdout",
     "output_type": "stream",
     "text": [
      "[[1]\n",
      " [1]\n",
      " [1]\n",
      " [1]\n",
      " [1]\n",
      " [1]\n",
      " [1]\n",
      " [1]\n",
      " [1]\n",
      " [1]]\n"
     ]
    }
   ],
   "source": [
    "p = Program()\n",
    "classical_register = p.declare('ro', 'BIT', 1)\n",
    "p += Program(X(0))   # Flip the qubit\n",
    "p.measure(0, classical_register[0])   # Measure the qubit\n",
    "\n",
    "trials = 10\n",
    "p.wrap_in_numshots_loop(shots=trials)\n",
    "\n",
    "print (qc.run(qc.compile(p)))"
   ]
  },
  {
   "cell_type": "markdown",
   "metadata": {},
   "source": [
    "### Classical/Quantum Interaction\n",
    "\n",
    "However this is not the case in general --- measurements can affect the quantum state as well. In fact, measurements act like projections onto the outcome basis states. We can show this using the Hadamard Gate(H). \n",
    "\n",
    "A qubit in this state will be measured half of the time in the |0> state, and half of the time in the |1> state. In a sense, this qubit truly is a random variable representing a coin. In fact, there are many wavefunctions that will give this same operational outcome. \n",
    "\n",
    "Being able to work with all of these different new states is part of what gives quantum computing extra power over regular bits.\n",
    "\n"
   ]
  },
  {
   "cell_type": "code",
   "execution_count": 57,
   "metadata": {
    "scrolled": true
   },
   "outputs": [
    {
     "name": "stdout",
     "output_type": "stream",
     "text": [
      "[[0]\n",
      " [1]\n",
      " [1]\n",
      " [1]\n",
      " [0]\n",
      " [1]\n",
      " [1]\n",
      " [0]\n",
      " [1]\n",
      " [1]]\n"
     ]
    }
   ],
   "source": [
    "p = Program()\n",
    "ro = p.declare('ro', 'BIT', 1)\n",
    "\n",
    "p += Program(H(0)).measure(0, ro[0])\n",
    "\n",
    "# Measure qubit #0 a number of times\n",
    "p.wrap_in_numshots_loop(shots=10)\n",
    "\n",
    "# We see probabilistic results of about half 1's and half 0's\n",
    "print (qc.run(qc.compile(p)))\n"
   ]
  },
  {
   "cell_type": "markdown",
   "metadata": {},
   "source": [
    "#### PyQuil allows us to look at the wavefunction after a measurement as well:"
   ]
  },
  {
   "cell_type": "code",
   "execution_count": 58,
   "metadata": {},
   "outputs": [
    {
     "name": "stdout",
     "output_type": "stream",
     "text": [
      "Before measurement: H|0> =  (0.7071067812+0j)|0> + (0.7071067812+0j)|1> \n",
      "\n",
      "After measurement:  (1+0j)|1>\n",
      "After measurement:  (1+0j)|0>\n",
      "After measurement:  (1+0j)|0>\n",
      "After measurement:  (1+0j)|0>\n",
      "After measurement:  (1+0j)|1>\n"
     ]
    }
   ],
   "source": [
    "coin_program = Program(H(0))\n",
    "print (\"Before measurement: H|0> = \", wavefunction_simulator.wavefunction(coin_program), \"\\n\")\n",
    "\n",
    "ro = coin_program.declare('ro', 'BIT', 1)\n",
    "coin_program.measure(0, ro[0])\n",
    "for _ in range(5):\n",
    "    print (\"After measurement: \", wavefunction_simulator.wavefunction(coin_program))\n"
   ]
  },
  {
   "cell_type": "markdown",
   "metadata": {},
   "source": [
    "We can clearly see that measurement has an effect on the quantum state independent of what is stored classically. We begin in a state that has a 50-50 probability of being |0> or |1>. After measurement, the state changes into being entirely in |0> or entirely in |1> according to which outcome was obtained. This is the phenomenon referred to as the collapse of the wavefunction. Mathematically, the wavefunction is being projected onto the vector of the obtained outcome and subsequently rescaled to unit norm."
   ]
  },
  {
   "cell_type": "code",
   "execution_count": 59,
   "metadata": {},
   "outputs": [
    {
     "name": "stdout",
     "output_type": "stream",
     "text": [
      "Before measurement: Bell state =  (0.7071067812+0j)|00> + (0.7071067812+0j)|11> \n",
      "\n",
      "After measurement:  {'00': 0.9999999999999996, '01': 0.0, '10': 0.0, '11': 0.0}\n",
      "After measurement:  {'00': 0.9999999999999996, '01': 0.0, '10': 0.0, '11': 0.0}\n",
      "After measurement:  {'00': 0.9999999999999996, '01': 0.0, '10': 0.0, '11': 0.0}\n",
      "After measurement:  {'00': 0.9999999999999996, '01': 0.0, '10': 0.0, '11': 0.0}\n",
      "After measurement:  {'00': 0.9999999999999996, '01': 0.0, '10': 0.0, '11': 0.0}\n"
     ]
    }
   ],
   "source": [
    "# This happens with bigger systems too, as can be seen with this program,\n",
    "# which prepares something called a Bell state (a special kind of \"entangled state\")\n",
    "bell_program = Program(H(0), CNOT(0, 1))\n",
    "wavefunction = wavefunction_simulator.wavefunction(bell_program)\n",
    "print(\"Before measurement: Bell state = \", wavefunction, \"\\n\")\n",
    "\n",
    "classical_regs = bell_program.declare('ro', 'BIT', 2)\n",
    "bell_program.measure(0, classical_regs[0]).measure(1, classical_regs[1])\n",
    "\n",
    "for _ in range(5):\n",
    "    wavefunction = wavefunction_simulator.wavefunction(bell_program)\n",
    "    print(\"After measurement: \", wavefunction.get_outcome_probs())"
   ]
  },
  {
   "cell_type": "markdown",
   "metadata": {},
   "source": [
    "The above program prepares entanglement because, even though there are random outcomes, after every measurement both qubits are in the same state. They are either both |0> or both |1>. This special kind of correlation is part of what makes quantum mechanics so unique and powerful.\n",
    "\n"
   ]
  },
  {
   "cell_type": "markdown",
   "metadata": {},
   "source": [
    "### Classical Control"
   ]
  },
  {
   "cell_type": "markdown",
   "metadata": {},
   "source": [
    "There are also ways of introducing classical control of quantum programs. For example, we can use the state of classical bits to determine what quantum operations to run."
   ]
  },
  {
   "cell_type": "code",
   "execution_count": 60,
   "metadata": {},
   "outputs": [
    {
     "name": "stdout",
     "output_type": "stream",
     "text": [
      "[[1 1]]\n"
     ]
    }
   ],
   "source": [
    "true_branch = Program(X(7)) # if branch\n",
    "false_branch = Program(I(7)) # else branch\n",
    "\n",
    "# Branch on ro[1]\n",
    "p = Program()\n",
    "ro = p.declare('ro', 'BIT', 8)\n",
    "p += Program(X(0)).measure(0, ro[1]).if_then(ro[1], true_branch, false_branch)\n",
    "\n",
    "# Measure qubit #7 into ro[7]\n",
    "p.measure(7, ro[7])\n",
    "\n",
    "# Run and check register [7]\n",
    "print (qc.run(qc.compile(p)))\n"
   ]
  },
  {
   "cell_type": "markdown",
   "metadata": {},
   "source": [
    "The second [1] here means that qubit 7 was indeed flipped."
   ]
  },
  {
   "cell_type": "code",
   "execution_count": null,
   "metadata": {},
   "outputs": [],
   "source": []
  }
 ],
 "metadata": {
  "kernelspec": {
   "display_name": "Python 2",
   "language": "python",
   "name": "python2"
  },
  "language_info": {
   "codemirror_mode": {
    "name": "ipython",
    "version": 3
   },
   "file_extension": ".py",
   "mimetype": "text/x-python",
   "name": "python",
   "nbconvert_exporter": "python",
   "pygments_lexer": "ipython3",
   "version": "3.7.1"
  }
 },
 "nbformat": 4,
 "nbformat_minor": 2
}
