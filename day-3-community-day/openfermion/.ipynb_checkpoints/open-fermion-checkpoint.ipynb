{
 "cells": [
  {
   "cell_type": "markdown",
   "metadata": {},
   "source": [
    "# Quantum simulation of electronic structure\n",
    "\n",
    "The quantum simulation of electronic structure is one of the most promising applications of quantum computers. It has potential applications to materials and drug design. This tutorial provides an introduction to OpenFermion, a library for obtaining and manipulating representations of fermionic and qubit Hamiltonians, and OpenFermion-Cirq, a companion library used to to compile quantum simulation circuits in Cirq."
   ]
  },
  {
   "cell_type": "markdown",
   "metadata": {},
   "source": [
    "## Background\n",
    "\n",
    "A system of $N$ fermionic modes is\n",
    "described by a set of fermionic *annihilation operators*\n",
    "$\\{a_p\\}_{p=0}^{N-1}$ satisfying the *canonical anticommutation relations*\n",
    "$$\\begin{aligned}\n",
    "    \\{a_p, a_q\\} &= 0, \\\\\n",
    "    \\{a_p, a^\\dagger_q\\} &= \\delta_{pq},\n",
    "  \\end{aligned}$$ where $\\{A, B\\} := AB + BA$. The adjoint\n",
    "$a^\\dagger_p$ of an annihilation operator $a_p$ is called a *creation\n",
    "operator*, and we refer to creation and annihilation operators as\n",
    "fermionic *ladder operators*.\n",
    "    \n",
    "The canonical anticommutation relations impose a number of consequences on the structure of the vector space on which the ladder operators act; see [Michael Nielsen's notes](http://michaelnielsen.org/blog/archive/notes/fermions_and_jordan_wigner.pdf) for a good discussion.\n",
    "\n",
    "The electronic structure Hamiltonian is commonly written in the form\n",
    "$$\n",
    "\\sum_{pq} T_{pq} a_p^\\dagger a_q + \\sum_{pqrs} V_{pqrs} a_p^\\dagger a_q^\\dagger a_r a_s\n",
    "$$\n",
    "where the $T_{pq}$ and $V_{pqrs}$ are coefficients which depend on the physical system being described. We are interested in calculating the lowest eigenvalue of the Hamiltonian. This eigenvalue is also called the ground state energy."
   ]
  },
  {
   "cell_type": "markdown",
   "metadata": {},
   "source": [
    "## Symbolic data structures"
   ]
  },
  {
   "cell_type": "markdown",
   "metadata": {},
   "source": [
    "\n",
    "### FermionOperator\n",
    "\n",
    "- Stores a weighted sum (linear combination) of fermionic terms\n",
    "- A fermionic term is a product of ladder operators\n",
    "- Examples of things that can be represented by FermionOperator:\n",
    "$$\n",
    "\\begin{align}\n",
    "& a_1 \\nonumber \\\\\n",
    "& 1.7 a^\\dagger_3 \\nonumber \\\\\n",
    "&-1.7 \\, a^\\dagger_3 a_1 \\nonumber \\\\\n",
    "&(1 + 2i) \\, a^\\dagger_4 a^\\dagger_3 a_9 a_1 \\nonumber \\\\\n",
    "&(1 + 2i) \\, a^\\dagger_4 a^\\dagger_3 a_9 a_1 - 1.7 \\, a^\\dagger_3 a_1 \\nonumber\n",
    "\\end{align}\n",
    "$$\n",
    "\n",
    "- A fermionic term is internally represented as a tuple of tuples\n",
    "- Each inner tuple represents a single ladder operator as (index, action)\n",
    "- Examples of fermionic terms:\n",
    "$$\n",
    "\\begin{align}\n",
    "I & \\mapsto () \\nonumber \\\\\n",
    "a_1 & \\mapsto ((1, 0),) \\nonumber \\\\\n",
    "a^\\dagger_3 & \\mapsto ((3, 1),) \\nonumber \\\\\n",
    "a^\\dagger_3 a_1 & \\mapsto ((3, 1), (1, 0)) \\nonumber \\\\\n",
    "a^\\dagger_4 a^\\dagger_3 a_9 a_1 & \\mapsto ((4, 1), (3, 1), (9, 0), (1, 0)) \\nonumber\n",
    "\\end{align}\n",
    "$$\n",
    "\n",
    "- FermionOperator is a sum of terms, represented as a dictionary from term to coefficient"
   ]
  },
  {
   "cell_type": "code",
   "execution_count": null,
   "metadata": {
    "collapsed": true
   },
   "outputs": [],
   "source": [
    "import openfermion as of\n",
    "\n",
    "op = of.FermionOperator(((4, 1), (3, 1), (9, 0), (1, 0)), 1+2j) + of.FermionOperator(((3, 1), (1, 0)), -1.7)\n",
    "\n",
    "print(op.terms)"
   ]
  },
  {
   "cell_type": "markdown",
   "metadata": {},
   "source": [
    "Alternative notation, useful when playing around:\n",
    "\n",
    "$$\n",
    "\\begin{align}\n",
    "I & \\mapsto \\textrm{\"\"} \\nonumber \\\\\n",
    "a_1 & \\mapsto \\textrm{\"1\"} \\nonumber \\\\\n",
    "a^\\dagger_3 & \\mapsto \\textrm{\"3^\"} \\nonumber \\\\\n",
    "a^\\dagger_3 a_1 & \\mapsto \\textrm{\"3^}\\;\\textrm{1\"} \\nonumber \\\\\n",
    "a^\\dagger_4 a^\\dagger_3 a_9 a_1 & \\mapsto \\textrm{\"4^}\\;\\textrm{3^}\\;\\textrm{9}\\;\\textrm{1\"} \\nonumber\n",
    "\\end{align}\n",
    "$$"
   ]
  },
  {
   "cell_type": "code",
   "execution_count": null,
   "metadata": {
    "collapsed": true
   },
   "outputs": [],
   "source": [
    "op = of.FermionOperator('4^ 3^ 9 1', 1+2j) + of.FermionOperator('3^ 1', -1.7)\n",
    "\n",
    "print(op.terms)"
   ]
  },
  {
   "cell_type": "markdown",
   "metadata": {},
   "source": [
    "Just print the operator for a nice readable representation:"
   ]
  },
  {
   "cell_type": "code",
   "execution_count": null,
   "metadata": {
    "collapsed": true
   },
   "outputs": [],
   "source": [
    "print(op)"
   ]
  },
  {
   "cell_type": "markdown",
   "metadata": {},
   "source": [
    "### QubitOperator\n",
    "\n",
    "Same as FermionOperator, but the possible actions are 'X', 'Y', and 'Z' instead of 1 and 0."
   ]
  },
  {
   "cell_type": "code",
   "execution_count": null,
   "metadata": {
    "collapsed": true
   },
   "outputs": [],
   "source": [
    "op = of.QubitOperator(((1, 'X'), (2, 'Y'), (3, 'Z')))\n",
    "op += of.QubitOperator('X3 Z4', 3.0)\n",
    "\n",
    "print(op)"
   ]
  },
  {
   "cell_type": "markdown",
   "metadata": {},
   "source": [
    "FermionOperator and QubitOperator actually inherit from the same parent class, SymbolicOperator."
   ]
  },
  {
   "cell_type": "markdown",
   "metadata": {},
   "source": [
    "## The Jordan-Wigner and Bravyi-Kitaev transforms\n",
    "\n",
    "A fermionic transform maps FermionOperators to QubitOperators in a way that preserves the canonical anticommutation relations. The most basic transforms are the Jordan-Wigner transform (JWT) and Bravyi-Kitaev transform (BKT). Note that the BKT requires the total number of qubits to be predetermined. Whenever a fermionic transform is being applied implicitly, it is the JWT."
   ]
  },
  {
   "cell_type": "code",
   "execution_count": null,
   "metadata": {
    "collapsed": true
   },
   "outputs": [],
   "source": [
    "op = of.FermionOperator('2^ 15')\n",
    "\n",
    "print(of.jordan_wigner(op))\n",
    "print()\n",
    "print(of.bravyi_kitaev(op, n_qubits=16))"
   ]
  },
  {
   "cell_type": "markdown",
   "metadata": {},
   "source": [
    "### Exercise: JWT examples\n",
    "\n",
    "Below are some examples of how FermionOperators are mapped to QubitOperators by the Jordan-Wigner transform (the notation 'h.c.' stands for 'hermitian conjugate'):\n",
    "$$\n",
    "\\begin{align*}\n",
    "    a_p^\\dagger &\\mapsto \\frac12 (X_p - i Y_p) Z_0 \\cdots Z_{p-1}\\\\\n",
    "    a_p^\\dagger a_p &\\mapsto \\frac12 (I - Z_p)\\\\\n",
    "    (\\beta a_p^\\dagger a_q + \\text{h.c.}) &\\mapsto \\frac12 [\\text{Re}(\\beta) (X_p ZZ \\cdots ZZ X_q + Y_p ZZ \\cdots ZZ Y_q) + \\text{Im}(\\beta) (Y_p ZZ \\cdots ZZ X_q - X_p ZZ \\cdots ZZ Y_q)]\n",
    "\\end{align*}\n",
    "$$\n",
    "Verify these mappings for $p=2$ and $q=7$. The `hermitian_conjugated` function may be useful here."
   ]
  },
  {
   "cell_type": "markdown",
   "metadata": {},
   "source": [
    "### Exercise: Verify the canonical anticommutation relations\n",
    "Use the `+` and `*` operators to verify that after applying the JWT to ladder operators, the resulting QubitOperators satisfy\n",
    "$$\n",
    "\\begin{align}\n",
    "    a_2 a_7 + a_7 a_2 &= 0 \\\\\n",
    "    a_2 a_7^\\dagger + a_7^\\dagger a_2 &= 0\\\\\n",
    "    a_2 a_2^\\dagger + a_2^\\dagger a_2 &= 1\n",
    "\\end{align}\n",
    "$$"
   ]
  },
  {
   "cell_type": "markdown",
   "metadata": {},
   "source": [
    "## Array data structures\n",
    "\n",
    "- When FermionOperators have specialized structure we can store coefficients in numpy arrays, enabling fast numerical manipulation.\n",
    "- Array data structures can always be converted to FermionOperator using `get_fermion_operator`.\n",
    "\n",
    "### InteractionOperator\n",
    "\n",
    "- Stores the one- and two-body tensors $T_{pq}$ and $V_{pqrs}$ of the molecular Hamiltonian\n",
    "$$\n",
    "\\sum_{pq} T_{pq} a_p^\\dagger a_q + \\sum_{pqrs} V_{pqrs} a_p^\\dagger a_q^\\dagger a_r a_s\n",
    "$$\n",
    "- Default data structure for molecular Hamiltonians\n",
    "- Convert from FermionOperator using `get_interaction_operator`\n",
    "\n",
    "### DiagonalCoulombHamiltonian\n",
    "\n",
    "- Stores the one- and two-body coefficient matrices $T_{pq}$ and $V_{pq}$ of a Hamiltonian with a diagonal Coulomb term:\n",
    "$$\n",
    "\\sum_{pq} T_{pq} a_p^\\dagger a_q + \\sum_{pq} V_{pq} a_p^\\dagger a_p a_q^\\dagger a_q\n",
    "$$\n",
    "- Leads to especially efficient algorithms for quantum simulation\n",
    "- Convert from FermionOperator using `get_diagonal_coulomb_hamiltonian`\n",
    "\n",
    "### QuadraticHamiltonian\n",
    "\n",
    "- Stores the Hermitian matrix $M_{pq}$ and antisymmetric matrix $\\Delta_{pq}$ describing a general quadratic Hamiltonian\n",
    "$$\n",
    "\\sum_{p, q} M_{pq} a^\\dagger_p a_q\n",
    "+ \\frac12 \\sum_{p, q}\n",
    "    (\\Delta_{pq} a^\\dagger_p a^\\dagger_q + \\text{h.c.})\n",
    "$$\n",
    "- Routines included for efficient diagonalization (can handle thousands of fermionic modes)\n",
    "- Convert from FermionOperator using `get_quadratic_hamiltonian`"
   ]
  },
  {
   "cell_type": "markdown",
   "metadata": {},
   "source": [
    "## Generating the Hamiltonian for a molecule"
   ]
  },
  {
   "cell_type": "markdown",
   "metadata": {},
   "source": [
    "The cell below demonstrates using one of our electronic structure package plugins, OpenFermion-PySCF, to generate a molecular Hamiltonian for a hydrogen molecule. Note that the Hamiltonian is returned as an InteractionOperator. We'll convert it to a FermionOperator and print the result."
   ]
  },
  {
   "cell_type": "code",
   "execution_count": null,
   "metadata": {
    "collapsed": true
   },
   "outputs": [],
   "source": [
    "import openfermionpyscf as ofpyscf\n",
    "\n",
    "# Set molecule parameters\n",
    "geometry = [('H', (0.0, 0.0, 0.0)), ('H', (0.0, 0.0, 0.8))]\n",
    "basis = 'sto-3g'\n",
    "multiplicity = 1\n",
    "charge = 0\n",
    "\n",
    "# Perform electronic structure calculations and\n",
    "# obtain Hamiltonian as an InteractionOperator\n",
    "hamiltonian = ofpyscf.generate_molecular_hamiltonian(\n",
    "  geometry, basis, multiplicity, charge)\n",
    "\n",
    "# Convert to a FermionOperator\n",
    "hamiltonian_ferm_op = of.get_fermion_operator(hamiltonian)\n",
    "\n",
    "print(hamiltonian_ferm_op)"
   ]
  },
  {
   "cell_type": "markdown",
   "metadata": {},
   "source": [
    "Let's calculate the ground energy (lowest eigenvalue) of the Hamiltonian. First, we'll map the FermionOperator to a QubitOperator using the JWT. Then, we'll convert the QubitOperator to a Scipy sparse matrix and get its lowest eigenvalue."
   ]
  },
  {
   "cell_type": "code",
   "execution_count": null,
   "metadata": {
    "collapsed": true
   },
   "outputs": [],
   "source": [
    "import scipy.sparse\n",
    "\n",
    "# Map to QubitOperator using the JWT\n",
    "hamiltonian_jw = of.jordan_wigner(hamiltonian_ferm_op)\n",
    "\n",
    "# Convert to Scipy sparse matrix\n",
    "hamiltonian_jw_sparse = of.get_sparse_operator(hamiltonian_jw)\n",
    "\n",
    "# Compute ground energy\n",
    "eigs, _ = scipy.sparse.linalg.eigsh(hamiltonian_jw_sparse, k=1, which='SA')\n",
    "ground_energy = eigs[0]\n",
    "\n",
    "print('Ground_energy: {}'.format(ground_energy))\n",
    "print('JWT transformed Hamiltonian:')\n",
    "print(hamiltonian_jw)"
   ]
  },
  {
   "cell_type": "markdown",
   "metadata": {},
   "source": [
    "### Exercise: Eigenvalues are independent of the transform\n",
    "Compute the ground energy of the same Hamiltonian, but via the Bravyi-Kitaev transform. Verify that you get the same value."
   ]
  },
  {
   "cell_type": "markdown",
   "metadata": {},
   "source": [
    "## Hamiltonian simulation with Trotter formulas\n",
    "\n",
    "- Goal: apply $\\exp(-i H t)$ where $H = \\sum_j H_j$\n",
    "- Use an approximation such as $\\exp(-i H t) \\approx (\\prod_{j=1} \\exp(-i H_j t/r))^r$\n",
    "- Exposed via the `simulate_trotter` function\n",
    "- Currently implemented algorithms are from [arXiv:1706.00023](https://arxiv.org/pdf/1706.00023.pdf), [arXiv:1711.04789](https://arxiv.org/pdf/1711.04789.pdf), and [arXiv:1808.02625](https://arxiv.org/pdf/1808.02625.pdf), and are based on the JWT\n",
    "- Currently supported Hamiltonian types: DiagonalCoulombHamiltonian and InteractionOperator\n",
    "\n",
    "As a demonstration, we'll simulate time evolution under the hydrogen molecule Hamiltonian we generated earlier.\n",
    "\n",
    "First, let's create a random initial state and apply the exact time evolution by matrix exponentiation:\n",
    "$$\n",
    "\\lvert \\psi \\rangle \\mapsto \\exp(-i H t) \\lvert \\psi \\rangle\n",
    "$$"
   ]
  },
  {
   "cell_type": "code",
   "execution_count": null,
   "metadata": {
    "collapsed": true
   },
   "outputs": [],
   "source": [
    "# Create a random initial state\n",
    "n_qubits = of.count_qubits(hamiltonian)\n",
    "initial_state = of.haar_random_vector(2**n_qubits, seed=7)\n",
    "\n",
    "# Set evolution time\n",
    "time = 1.0\n",
    "\n",
    "# Apply exp(-i H t) to the state\n",
    "exact_state = scipy.sparse.linalg.expm_multiply(-1j*hamiltonian_jw_sparse*time, initial_state)"
   ]
  },
  {
   "cell_type": "markdown",
   "metadata": {},
   "source": [
    "Now, let's create a circuit to perform the evolution and compare the fidelity of the resulting state with the one from exact evolution. The fidelity can be increased by increasing the number of Trotter steps. Note that the Hamiltonian input to `simulate_trotter` should be an InteractionOperator, not a FermionOperator."
   ]
  },
  {
   "cell_type": "code",
   "execution_count": null,
   "metadata": {
    "collapsed": true
   },
   "outputs": [],
   "source": [
    "import cirq\n",
    "import openfermioncirq as ofc\n",
    "import numpy as np\n",
    "\n",
    "# Initialize qubits\n",
    "qubits = cirq.LineQubit.range(n_qubits)\n",
    "\n",
    "# Create circuit\n",
    "circuit = cirq.Circuit.from_ops(\n",
    "    ofc.simulate_trotter(\n",
    "        qubits, hamiltonian, time,\n",
    "        n_steps=1,\n",
    "        order=0,\n",
    "        algorithm=ofc.trotter.LOW_RANK)\n",
    ")\n",
    "\n",
    "# Apply the circuit to the initial state\n",
    "result = circuit.apply_unitary_effect_to_state(initial_state)\n",
    "\n",
    "# Compute the fidelity with the final state from exact evolution\n",
    "fidelity = abs(np.dot(exact_state, result.conj()))**2\n",
    "\n",
    "print(fidelity)"
   ]
  },
  {
   "cell_type": "code",
   "execution_count": null,
   "metadata": {
    "collapsed": true
   },
   "outputs": [],
   "source": [
    "print(circuit.to_text_diagram(transpose=True))"
   ]
  },
  {
   "cell_type": "markdown",
   "metadata": {},
   "source": [
    "## Variational energy calculation"
   ]
  },
  {
   "cell_type": "markdown",
   "metadata": {},
   "source": [
    "- Approximate the ground energy by minimizing the cost function\n",
    "$$\n",
    "E(\\vec \\theta) =  \\langle \\psi \\rvert\n",
    "U^\\dagger(\\vec{\\theta}) H U(\\vec{\\theta})\n",
    "\\lvert \\psi\\rangle.\n",
    "$$\n",
    "- The parameterized circuit $U(\\vec{\\theta})$ is called an ansatz\n",
    "- A popular choice is to use an ansatz of the form\n",
    "$$\n",
    "U(\\vec{\\theta}) = \\prod_j \\exp(-i \\theta_j H_j)\n",
    "$$\n",
    "where $H = \\sum_j H_j$\n",
    "- OpenFermion-Cirq contains some built-in ansatzes of this form based on Trotter steps used in Hamiltonian simulation."
   ]
  },
  {
   "cell_type": "code",
   "execution_count": null,
   "metadata": {
    "collapsed": true
   },
   "outputs": [],
   "source": [
    "import cirq\n",
    "import openfermioncirq as ofc\n",
    "\n",
    "ansatz = ofc.LowRankTrotterAnsatz(hamiltonian)\n",
    "\n",
    "cirq.DropNegligible().optimize_circuit(ansatz.circuit)\n",
    "print(ansatz.circuit.to_text_diagram(transpose=True))"
   ]
  },
  {
   "cell_type": "markdown",
   "metadata": {},
   "source": [
    "We can define a function which takes parameters as an array of real numbers, simulates the corresponding circuit, and outputs the energy of the resulting state. Then, we can optimize this function to obtain a variational estimate of the ground energy. We know from chemical considerations that the ground state has two electrons, so we'll use for our starting state the bitstring 1100."
   ]
  },
  {
   "cell_type": "code",
   "execution_count": null,
   "metadata": {
    "collapsed": true
   },
   "outputs": [],
   "source": [
    "import scipy.optimize\n",
    "\n",
    "def energy_from_params(x):\n",
    "  param_resolver = ansatz.param_resolver(x)\n",
    "  circuit = cirq.resolve_parameters(ansatz.circuit, param_resolver)\n",
    "  final_state = circuit.apply_unitary_effect_to_state(0b1000)\n",
    "  return of.expectation(hamiltonian_jw_sparse, final_state).real\n",
    "\n",
    "initial_guess = ansatz.default_initial_params()\n",
    "result = scipy.optimize.minimize(energy_from_params, initial_guess)\n",
    "\n",
    "print('Initial energy: {}'.format(energy_from_params(initial_guess)))\n",
    "print('Optimized energy: {}'.format(result.fun))"
   ]
  },
  {
   "cell_type": "markdown",
   "metadata": {},
   "source": [
    "## Exercises"
   ]
  },
  {
   "cell_type": "markdown",
   "metadata": {},
   "source": [
    "### A better variational ansatz for the H2 molecule\n",
    "\n",
    "The variational ansatz used above has 34 parameters. Note that in this small 4-qubit example, the Hilbert space only has dimension 16! It turns out that it's possible to obtain the exact ground energy with the following one-parameter ansatz:\n",
    "\n",
    "$$\n",
    "\\exp(-i \\pi \\theta X_0 X_1 X_2 Y_3) \\lvert 1 1 0 0 \\rangle\n",
    "$$\n",
    "\n",
    "Fill in the code cell below to implement the above unitary. The optimized energy should match the ground state energy found above."
   ]
  },
  {
   "cell_type": "code",
   "execution_count": null,
   "metadata": {
    "collapsed": true
   },
   "outputs": [],
   "source": [
    "def exponentiate_XXXY(qubits, theta):\n",
    "  \"\"\"Applies exp(-i pi theta XXXY) to the qubits\"\"\"\n",
    "  # FILL IN CODE HERE\n",
    "  \n",
    "  \n",
    "qubits = cirq.LineQubit.range(4)\n",
    "theta = cirq.Symbol('theta')\n",
    "circuit = cirq.Circuit.from_ops(exponentiate_XXXY(qubits, theta))\n",
    "\n",
    "def energy_from_params(x):\n",
    "  param_resolver = cirq.ParamResolver({'theta': x[0]})\n",
    "  resolved_circuit = circuit.with_parameters_resolved_by(param_resolver)\n",
    "  final_state = resolved_circuit.apply_unitary_effect_to_state(0b1100)\n",
    "  return of.expectation(hamiltonian_jw_sparse, final_state).real\n",
    "\n",
    "initial_guess = np.random.randn(1)\n",
    "result = scipy.optimize.minimize(energy_from_params, initial_guess)\n",
    "\n",
    "print('Initial energy: {}'.format(energy_from_params(initial_guess)))\n",
    "print('Optimized energy: {}'.format(result.fun))"
   ]
  },
  {
   "cell_type": "markdown",
   "metadata": {},
   "source": [
    "### Circuit primitive: swap network\n",
    "\n",
    "The swap network is a method for applying arbitrary pairwise interactions between qubits or fermionic modes in linear depth using linear connectivity. The idea is to use a parallelized network of swap gates to reverse the order of qubits or fermionic modes in such a way that each pair of *logical* qubits becomes adjacent at some point. The desired pairwise operations are applied when the appropriate logical qubits become adjacent. It was first used in [arXiv:1711.04789](https://arxiv.org/pdf/1711.04789.pdf).\n",
    "\n",
    "Simply calling `ofc.swap_network(qubits)` gives a pattern of swap gates which just reverses the order of qubits."
   ]
  },
  {
   "cell_type": "code",
   "execution_count": null,
   "metadata": {
    "collapsed": true
   },
   "outputs": [],
   "source": [
    "qubits = cirq.LineQubit.range(5)\n",
    "circuit = cirq.Circuit.from_ops(ofc.swap_network(qubits))\n",
    "\n",
    "print(circuit.to_text_diagram(transpose=True))"
   ]
  },
  {
   "cell_type": "markdown",
   "metadata": {},
   "source": [
    "Specify operations to perform on the logical qubits/modes by providing a function which takes as input logical indices and the qubits representing them, and performs the desired operations."
   ]
  },
  {
   "cell_type": "code",
   "execution_count": null,
   "metadata": {
    "collapsed": true
   },
   "outputs": [],
   "source": [
    "def cz_interaction(i, j, a, b):\n",
    "    return cirq.CZPowGate(exponent=cirq.Symbol('theta_{}{}'.format(i, j))).on(a, b)\n",
    "\n",
    "circuit = cirq.Circuit.from_ops(\n",
    "    ofc.swap_network(qubits, cz_interaction),\n",
    "    strategy=cirq.InsertStrategy.EARLIEST)\n",
    "\n",
    "print(circuit.to_text_diagram(transpose=True))"
   ]
  },
  {
   "cell_type": "code",
   "execution_count": null,
   "metadata": {
    "collapsed": true
   },
   "outputs": [],
   "source": [
    "circuit = cirq.Circuit.from_ops(\n",
    "    ofc.swap_network(\n",
    "        qubits,\n",
    "        lambda i, j, a, b: ofc.XXYY(a, b) if abs(i-j) == 1\n",
    "                           else cirq.CZ(a, b),\n",
    "        fermionic=True),\n",
    "    strategy=cirq.InsertStrategy.EARLIEST)\n",
    "print(circuit.to_text_diagram(transpose=True))"
   ]
  },
  {
   "cell_type": "markdown",
   "metadata": {},
   "source": [
    "In this exercise, we will use a swap network to simulate the dynamics of a fully-connected Ising model Hamiltonian\n",
    "$$\n",
    "H = \\sum_{ij} J_{ij} Z_i Z_j\n",
    "$$\n",
    "\n",
    "First, let's generate a random Ising model Hamiltonian as a QubitOperator."
   ]
  },
  {
   "cell_type": "code",
   "execution_count": null,
   "metadata": {
    "collapsed": true
   },
   "outputs": [],
   "source": [
    "import openfermion as of\n",
    "import itertools\n",
    "import numpy as np\n",
    "\n",
    "n_qubits = 5\n",
    "\n",
    "ising_model = of.QubitOperator()\n",
    "\n",
    "for i, j in itertools.combinations(range(n_qubits), 2):\n",
    "    ising_model += of.QubitOperator(((i, 'Z'), (j, 'Z')), np.random.randn())\n",
    "\n",
    "print(ising_model)"
   ]
  },
  {
   "cell_type": "markdown",
   "metadata": {},
   "source": [
    "Now let's create a random initial state and apply $\\exp(-i H t)$ to it, for $t=1$."
   ]
  },
  {
   "cell_type": "code",
   "execution_count": null,
   "metadata": {
    "collapsed": true
   },
   "outputs": [],
   "source": [
    "import scipy.sparse.linalg\n",
    "\n",
    "# Create a random initial state\n",
    "initial_state = of.haar_random_vector(2**n_qubits)\n",
    "\n",
    "# Convert Hamiltonian to sparse matrix\n",
    "ising_sparse = of.get_sparse_operator(ising_model)\n",
    "\n",
    "# Set evolution time\n",
    "time = 1.0\n",
    "\n",
    "# Apply exp(-i H t) to the state\n",
    "final_state = scipy.sparse.linalg.expm_multiply(\n",
    "    -1j*ising_sparse*time, initial_state)"
   ]
  },
  {
   "cell_type": "markdown",
   "metadata": {},
   "source": [
    "If `initial_state` is $\\lvert \\psi \\rangle$, then `final_state` is now $\\exp(-i H t) \\lvert \\psi \\rangle$.\n",
    "\n",
    "\n",
    "Fill in the code cell below to construct a circuit which applies $\\exp(-i H t)$ using a swap network. Note the following:\n",
    "- You'll want to use the `ofc.ZZGate` gate. The most convenient way to initialize it in this case is to use the `duration` argument.\n",
    "- A swap network reverses the order of qubits. Therefore, to get the circuit to simulate properly, you'll need to swap the qubits back with another swap network. In a real experiment we would just keep track of the qubit order instead of performing these extra swaps."
   ]
  },
  {
   "cell_type": "code",
   "execution_count": null,
   "metadata": {
    "collapsed": true
   },
   "outputs": [],
   "source": [
    "# Initialize qubits\n",
    "qubits = cirq.LineQubit.range(n_qubits)\n",
    "\n",
    "# Write code below to create the circuit\n",
    "# You should define the `circuit` variable here\n",
    "# ---------------------------------------------\n",
    "\n",
    "\n",
    "# ---------------------------------------------\n",
    "\n",
    "# Apply the circuit to the initial state\n",
    "result = circuit.apply_unitary_effect_to_state(initial_state)\n",
    "\n",
    "# Compute the fidelity with the correct final state\n",
    "fidelity = abs(np.dot(final_state, result.conj()))**2\n",
    "\n",
    "# Print fidelity; it should be 1\n",
    "print(fidelity)"
   ]
  },
  {
   "cell_type": "markdown",
   "metadata": {},
   "source": [
    "### Quadratic Hamiltonians and the Bogoliubov transform\n",
    "\n",
    "A quadratic Hamiltonian has terms that are quadratic in the ladder operators:\n",
    "\n",
    "$$\n",
    "        \\sum_{p, q} T_{pq}a^\\dagger_p a_q\n",
    "        + \\frac12 \\sum_{p, q}\n",
    "            (\\Delta_{pq} a^\\dagger_p a^\\dagger_q + \\text{h.c.})\n",
    "        + \\text{constant}\n",
    "$$"
   ]
  },
  {
   "cell_type": "code",
   "execution_count": null,
   "metadata": {
    "collapsed": true
   },
   "outputs": [],
   "source": [
    "n_qubits = 5\n",
    "quad_ham = of.random_quadratic_hamiltonian(n_qubits, conserves_particle_number=True, seed=7)\n",
    "\n",
    "print(of.get_fermion_operator(quad_ham))"
   ]
  },
  {
   "cell_type": "markdown",
   "metadata": {},
   "source": [
    "Any quadratic Hamiltonian can be rewritten in the following diagonal form:\n",
    "$$\n",
    "\\sum_{j} \\varepsilon_j b_j^\\dagger b_j + \\text{constant}\n",
    "$$\n",
    "In the particle-conserving case, the transformation takes the form\n",
    "$$\n",
    "U a_p^\\dagger U^\\dagger = b_p^\\dagger, \\quad b_p^\\dagger = \\sum_{q} u_{pq} a_q^\\dagger\n",
    "$$\n",
    "where $u$ is a unitary matrix. We can get the coefficients $\\epsilon_j$, the transformation matrix $u$, and the constant using the `diagonalizing_bogoliubov_transform` method of QuadraticHamiltonian. This works even if the Hamiltonian does not conserve particle number, although the transformation matrix will take a different form."
   ]
  },
  {
   "cell_type": "code",
   "execution_count": null,
   "metadata": {
    "collapsed": true
   },
   "outputs": [],
   "source": [
    "# Get the epsilon_j, u, and constant\n",
    "orbital_energies, transformation_matrix, constant = quad_ham.diagonalizing_bogoliubov_transform()\n",
    "\n",
    "print(orbital_energies)\n",
    "print()\n",
    "print(transformation_matrix)"
   ]
  },
  {
   "cell_type": "markdown",
   "metadata": {},
   "source": [
    "Recall that the Jordan-Wigner transform of $b_j^\\dagger b_j$ is $\\frac12(I-Z)$. Therefore, $\\exp(-i \\varepsilon_j b_j^\\dagger b_j)$ is equivalent to a single-qubit Z rotation under the JWT. Since the operators $b_j^\\dagger b_j$ commute, we have\n",
    "$$\n",
    "\\exp(-i H t) = \\exp(-i \\sum_j \\varepsilon_j b_j^\\dagger b_j t)\n",
    "= \\prod_j \\exp(-i \\varepsilon_j b_j^\\dagger b_j t)\n",
    "$$\n",
    "This gives a method for simulating time evolution under a quadratic Hamiltonian:\n",
    "- Use a Bogoliubov transformation to change to the basis in which the Hamiltonian is diagonal (Note: this transformation might be the inverse of what you expect. In that case, use `cirq.inverse`)\n",
    "- Apply single-qubit Z-rotations with angles proportional to the orbital energies\n",
    "- Undo the basis change\n",
    "\n",
    "The code cell below creates a random initial state and applies time evolution by direct matrix exponentiation."
   ]
  },
  {
   "cell_type": "code",
   "execution_count": null,
   "metadata": {
    "collapsed": true
   },
   "outputs": [],
   "source": [
    "import scipy.sparse.linalg\n",
    "\n",
    "# Create a random initial state\n",
    "initial_state = of.haar_random_vector(2**n_qubits)\n",
    "\n",
    "# Set evolution time\n",
    "time = 1.0\n",
    "\n",
    "# Apply exp(-i H t) to the state\n",
    "quad_ham_sparse = of.get_sparse_operator(quad_ham)\n",
    "final_state = scipy.sparse.linalg.expm_multiply(-1j*quad_ham_sparse*time, initial_state)"
   ]
  },
  {
   "cell_type": "markdown",
   "metadata": {},
   "source": [
    "Fill in the code cell below to construct a circuit which applies $\\exp(-i H t)$ using the method described above"
   ]
  },
  {
   "cell_type": "code",
   "execution_count": null,
   "metadata": {
    "collapsed": true
   },
   "outputs": [],
   "source": [
    "# Initialize qubits\n",
    "qubits = cirq.LineQubit.range(n_qubits)\n",
    "\n",
    "# Write code below to create the circuit\n",
    "# You should define the `circuit` variable here\n",
    "# ---------------------------------------------\n",
    "def exponentiate_quad_ham(qubits, quad_ham):\n",
    "    orbital_energies, basis_change_matrix, _ = quad_ham.diagonalizing_bogoliubov_transform()\n",
    "    \n",
    "    # PUT YOUR CODE HERE\n",
    "# ---------------------------------------------\n",
    "\n",
    "circuit = cirq.Circuit.from_ops(exponentiate_quad_ham(qubits, quad_ham))\n",
    "\n",
    "# Apply the circuit to the initial state\n",
    "result = circuit.apply_unitary_effect_to_state(initial_state)\n",
    "\n",
    "# Compute the fidelity with the correct final state\n",
    "fidelity = abs(np.dot(final_state, result.conj()))**2\n",
    "\n",
    "# Print fidelity; it should be 1\n",
    "print(fidelity)"
   ]
  },
  {
   "cell_type": "markdown",
   "metadata": {},
   "source": [
    "### The BCS model of superconductivity\n",
    "\n",
    "The BCS mean-field d-wave model of superconductivity has the Hamiltonian\n",
    "\n",
    "$$\n",
    "H = - t \\sum_{\\langle i,j \\rangle} \\sum_\\sigma\n",
    "        (a^\\dagger_{i, \\sigma} a_{j, \\sigma} +\n",
    "         a^\\dagger_{j, \\sigma} a_{i, \\sigma})\n",
    "    - \\sum_{\\langle i,j \\rangle} \\Delta_{ij}\n",
    "      (a^\\dagger_{i, \\uparrow} a^\\dagger_{j, \\downarrow} -\n",
    "       a^\\dagger_{i, \\downarrow} a^\\dagger_{j, \\uparrow} +\n",
    "       a_{j, \\downarrow} a_{i, \\uparrow} -\n",
    "       a_{j, \\uparrow} a_{i, \\downarrow})\n",
    "$$\n",
    "\n",
    "The code cell below generates an instance of this model with dimensions 10x10.\n",
    "\n",
    "- Convert the Hamiltonian to a QubitOperator with the JWT. What is the length of the longest Pauli string that appears?\n",
    "- Convert the Hamiltonian to a QubitOperator with the BKT. What is the length of the longest Pauli string that appears?\n",
    "- Convert the Hamiltonian to a QuadraticHamiltonian using the `get_qudratic_hamiltonian` function. Get its ground energy using the `ground_energy` method of QuadraticHamiltonian. What would happen if you tried to compute the ground energy by converting to a sparse matrix?"
   ]
  },
  {
   "cell_type": "code",
   "execution_count": null,
   "metadata": {
    "collapsed": true
   },
   "outputs": [],
   "source": [
    "mean_field_model = of.mean_field_dwave(\n",
    "    x_dimension=10, y_dimension=10, tunneling=1.0, sc_gap=1.0)"
   ]
  },
  {
   "cell_type": "markdown",
   "metadata": {},
   "source": [
    "## Running PySCF to populate the OpenFermion MolecularData class\n",
    "\n",
    "The module run_pyscf.py provides a user-friendly way of running PySCF calculations in OpenFermion. The basic idea is that once one generates a MolecularData instance, one can then call PySCF with a specification of certain options (for instance, how much memory to use and what calculations to do) in order to compute things about the molecule, update the MolecularData object, and save results of the calculation. The most common calculations users will want in OpenFermion would probably be self-consistent field (aka Hartree-Fock calculations). Our code uses these \"SCF\" calculations compute orbitals, integrals, Hartree-Fock energy, and more. Other common calculations are CISD and FCI calculations which also compute the 1-RDM and 2-RDM associated with their answers, CCSD calculations which also compute the CCSD amplitudes (useful for UCC) and MP2 calculations which can also be used to UCCSD initial guesses. Note that the \"delete_input\" and \"delete_output\" options indicate whether to save automatically generated pyscf input files or not. To use this plugin, you will need to personally download PySCF.\n",
    "\n",
    "Warnings: electronic structure calculations are finicky. They sometimes fail for surprising reasons. See the PySCF documentation for more information or consult and electronic structure theory expert."
   ]
  },
  {
   "cell_type": "code",
   "execution_count": null,
   "metadata": {},
   "outputs": [],
   "source": [
    "from openfermion.hamiltonians import MolecularData\n",
    "from openfermionpyscf import run_pyscf\n",
    "\n",
    "# Set molecule parameters.\n",
    "basis = 'sto-3g'\n",
    "multiplicity = 1\n",
    "n_points = 40\n",
    "bond_length_interval = 3.0 / n_points\n",
    "\n",
    "# Set calculation parameters.\n",
    "run_scf = 1\n",
    "run_mp2 = 1\n",
    "run_cisd = 0\n",
    "run_ccsd = 0\n",
    "run_fci = 1\n",
    "delete_input = True\n",
    "delete_output = True\n",
    "\n",
    "# Generate molecule at different bond lengths.\n",
    "hf_energies = []\n",
    "fci_energies = []\n",
    "bond_lengths = []\n",
    "for point in range(1, n_points + 1):\n",
    "    bond_length = bond_length_interval * float(point) + 0.2\n",
    "    bond_lengths += [bond_length]\n",
    "    geometry = [('H', (0., 0., 0.)), ('H', (0., 0., bond_length))]\n",
    "    molecule = MolecularData(\n",
    "        geometry, basis, multiplicity,\n",
    "        description=str(round(bond_length, 2)))\n",
    "    \n",
    "    # Run pyscf.\n",
    "    molecule = run_pyscf(molecule,\n",
    "                         run_scf=run_scf,\n",
    "                         run_mp2=run_mp2,\n",
    "                         run_cisd=run_cisd,\n",
    "                         run_ccsd=run_ccsd,\n",
    "                         run_fci=run_fci)\n",
    "\n",
    "    # Print out some results of calculation.\n",
    "    print('\\nAt bond length of {} angstrom, molecular hydrogen has:'.format(\n",
    "        bond_length))\n",
    "    print('Hartree-Fock energy of {} Hartree.'.format(molecule.hf_energy))\n",
    "    print('MP2 energy of {} Hartree.'.format(molecule.mp2_energy))\n",
    "    print('FCI energy of {} Hartree.'.format(molecule.fci_energy))\n",
    "    print('Nuclear repulsion energy between protons is {} Hartree.'.format(\n",
    "        molecule.nuclear_repulsion))\n",
    "    for orbital in range(molecule.n_orbitals):\n",
    "        print('Spatial orbital {} has energy of {} Hartree.'.format(\n",
    "            orbital, molecule.orbital_energies[orbital]))\n",
    "    hf_energies += [molecule.hf_energy]\n",
    "    fci_energies += [molecule.fci_energy]\n",
    "\n",
    "# Plot.\n",
    "import matplotlib.pyplot as plt\n",
    "%matplotlib inline\n",
    "\n",
    "plt.figure(0)\n",
    "plt.plot(bond_lengths, fci_energies, 'x-')\n",
    "plt.plot(bond_lengths, hf_energies, 'o-')\n",
    "plt.ylabel('Energy in Hartree')\n",
    "plt.xlabel('Bond length in angstrom')\n",
    "plt.show()"
   ]
  }
 ],
 "metadata": {
  "kernelspec": {
   "display_name": "Python 3",
   "language": "python",
   "name": "python3"
  },
  "language_info": {
   "codemirror_mode": {
    "name": "ipython",
    "version": 3
   },
   "file_extension": ".py",
   "mimetype": "text/x-python",
   "name": "python",
   "nbconvert_exporter": "python",
   "pygments_lexer": "ipython3",
   "version": "3.6.6"
  }
 },
 "nbformat": 4,
 "nbformat_minor": 2
}
