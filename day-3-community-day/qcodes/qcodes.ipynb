{
 "cells": [
  {
   "cell_type": "markdown",
   "metadata": {
    "slideshow": {
     "slide_type": "slide"
    }
   },
   "source": [
    "\n",
    "![logo](http://qcodes.github.io/Qcodes/_images/qcodes_logo.png)\n",
    "\n",
    "<td> <img src=\"https://avatars3.githubusercontent.com/u/548266?s=400&v=4\" align=\"left\" style=\"width: 200px;\"/> </td>\n",
    "<td> <img src=\"https://avatars3.githubusercontent.com/u/23165537?s=400&v=4\" align=\"left\" style=\"width: 200px;\"/> </td>\n",
    "<td> <img src=\"https://avatars3.githubusercontent.com/u/30660470?s=400&v=4\" align=\"right\"  style=\"width: 200px;\"/> </td>\n",
    "<td> <img src=\"https://avatars2.githubusercontent.com/u/15662810?s=400&v=4\" align=\"right\"  style=\"width: 200px;\"/> </td>\n",
    "\n",
    "<br /> <br /> <br /> \n",
    "<p><center><b><font size=\"+2\">QCo</b></font>penhagen<b><font size=\"+2\">De</b></font>lft<b><font size=\"+2\">S</b>ydney</b></font> </center></p>\n",
    "\n",
    "\n",
    "<center>\n",
    "Python-based data acquisition framework developed by the Copenhagen / Delft / Sydney / Microsoft quantum computing consortium.\n",
    "</center>"
   ]
  },
  {
   "cell_type": "markdown",
   "metadata": {
    "slideshow": {
     "slide_type": "slide"
    }
   },
   "source": [
    "<h2><center> Why another control software? </center></h2>\n",
    "\n",
    "<h3><center> Igor Pro is fun, why change? </center></h3>\n",
    "\n",
    "* Version control.\n",
    "* Readability.\n",
    "* Flexibility.\n",
    "* Reproducibility.\n",
    "* Easy data handling.\n",
    "\n",
    "\n"
   ]
  },
  {
   "cell_type": "markdown",
   "metadata": {
    "slideshow": {
     "slide_type": "slide"
    }
   },
   "source": [
    "## As they say themselves\n",
    "\n",
    "It is aiming for a common framework for physics experiments [1]:\n",
    "\n",
    "> * New students don’t need to spend a long time learning software in order to participate in experiments.\n",
    "> * One has to write their own code only for pieces that are very specific to their own experiment.\n",
    "> * Code can and should be contributed back to the framework.\n",
    "> * The process of moving between teams or labs, and of setting up a new experiment is streamlined.\n",
    "> * Physics experiments can take advantage of modern software and best practices.\n",
    "\n",
    "With some key features [2]:\n",
    "> * A more flexible and faster data storage solution.\n",
    "> * A robust architecture that uses the full potential of your hardware.\n",
    "\n",
    "\n",
    "\n",
    "[1]: [<http://qcodes.github.io/Qcodes/>](http://qcodes.github.io/Qcodes/)\n",
    "\n",
    "[2]: [<https://github.com/QCoDeS/Qcodes>](https://github.com/QCoDeS/Qcodes)"
   ]
  },
  {
   "cell_type": "markdown",
   "metadata": {
    "slideshow": {
     "slide_type": "slide"
    }
   },
   "source": [
    "## Why I use it\n",
    "\n",
    "(Because I gave up fighting with Igor...)\n",
    "\n",
    "* Python based - many other python packages are readily available (i.e. scipy, scikit-learn, Keras, StatsModels).\n",
    "* Responsive and competent development team.\n",
    "* Takes care of saving all relevant parameters, i.e state of instruments.\n",
    "* Data saved in SQlite database:\n",
    "  * convenient data storage,\n",
    "  * search functions,\n",
    "  * enables to save and search metadata (i.e labels),\n",
    "  * cross-platform.\n",
    "\n",
    "\n",
    "### The SQlite database\n",
    "\n",
    "* Replaces ```fopen()```.\n",
    "* File format, not server/client database.\n",
    "* Widely used (successfully as it seems).\n",
    "\n",
    "> SQLite emphasizes economy, efficiency, reliability, independence, and simplicity. [1]\n",
    "\n",
    "[1]: [<https://www.sqlite.org/index.html>](https://www.sqlite.org/index.html)"
   ]
  },
  {
   "cell_type": "markdown",
   "metadata": {
    "slideshow": {
     "slide_type": "slide"
    }
   },
   "source": [
    "## Installations\n",
    "\n",
    "* Instructions can be found [here](http://qcodes.github.io/Qcodes/start/index.html#installation).\n",
    "* Using Anaconda to manage environments is recommended.\n",
    "* Preferable to install all packages with ```conda```, not mixing ```pip``` and ```conda```.\n",
    "* To install latest release:\n",
    "    * launch Anaconda Prompt\n",
    "    * type\n",
    "        ```sh\n",
    "        conda env create -f environment.yml\n",
    "        activate qcodes\n",
    "        pip install qcodes\n",
    "        ```\n",
    "* Or install from GitHub:\n",
    "    * clone repo from [https://github.com/QCoDeS/Qcodes](https://github.com/QCoDeS/Qcodes)\n",
    "    * create environment with editable install\n",
    "        ```sh\n",
    "        conda env create -f <path-to-environment.yml>\n",
    "        activate qcodes\n",
    "        pip install -e <path-to-repository>\n",
    "        ```\n",
    "        \n",
    "* To use instrument drivers you will also need [National Instruments VISA](https://www.ni.com/visa/).\n",
    "\n",
    "### Using QCoDeS\n",
    "\n",
    "* Jupyter notebook\n",
    "* or Spyder\n"
   ]
  },
  {
   "cell_type": "markdown",
   "metadata": {
    "slideshow": {
     "slide_type": "slide"
    }
   },
   "source": [
    "## Structure\n",
    "\n",
    "![](http://qcodes.github.io/Qcodes/_images/datasetdiagram.svg)\n",
    "\n",
    "More details [here](http://qcodes.github.io/Qcodes/dataset/dataset_design.html)."
   ]
  },
  {
   "cell_type": "code",
   "execution_count": 1,
   "metadata": {
    "slideshow": {
     "slide_type": "slide"
    }
   },
   "outputs": [],
   "source": [
    "import numpy as np\n",
    "import qcodes as qc\n",
    "\n",
    "from qcodes.dataset.experiment_container import new_experiment\n",
    "from qcodes.dataset.database import initialise_database\n",
    "from qcodes.tests.instrument_mocks import DummyInstrument\n",
    "from qcodes.dataset.param_spec import ParamSpec\n",
    "from qcodes.dataset.measurements import Measurement\n",
    "from qcodes.dataset.plotting import plot_by_id\n",
    "\n",
    "# Prepare a mock setup with two instruments\n",
    "dac = DummyInstrument('dac', gates=['ch1', 'ch2'])\n",
    "dmm = DummyInstrument('dmm', gates=['v1', 'v2'])\n",
    "# We are going to measure dmm.v1.\n",
    "dmm.v1.get = np.random.randn\n",
    "\n",
    "# Bind everything to a station - important for metadata.\n",
    "station = qc.Station(dmm, dac)"
   ]
  },
  {
   "cell_type": "code",
   "execution_count": 2,
   "metadata": {
    "slideshow": {
     "slide_type": "slide"
    }
   },
   "outputs": [
    {
     "data": {
      "text/plain": [
       "tutorial_exp#no sample#24@./experiments.db\n",
       "------------------------------------------"
      ]
     },
     "execution_count": 2,
     "metadata": {},
     "output_type": "execute_result"
    }
   ],
   "source": [
    "# We assume we don't have a databse right now.\n",
    "initialise_database()\n",
    "\n",
    "# Each dataset taken will belong to an experiment.\n",
    "# Here we create a new one in our newly created database\n",
    "new_experiment(name='tutorial_exp', sample_name=\"no sample\")"
   ]
  },
  {
   "cell_type": "code",
   "execution_count": 16,
   "metadata": {
    "slideshow": {
     "slide_type": "slide"
    }
   },
   "outputs": [
    {
     "name": "stdout",
     "output_type": "stream",
     "text": [
      "Starting experimental run with id: 32\n"
     ]
    },
    {
     "data": {
      "image/png": "[encoded data removed]",
      "text/plain": [
       "<Figure size 432x288 with 1 Axes>"
      ]
     },
     "metadata": {
      "needs_background": "light"
     },
     "output_type": "display_data"
    }
   ],
   "source": [
    "# We are now ready to run the experiment.\n",
    "meas = Measurement()\n",
    "# All we need to do is to subsribe all parameters involved.\n",
    "meas.register_parameter(dac.ch1)  # register the first independent parameter\n",
    "meas.register_parameter(dmm.v1, setpoints=(dac.ch1,))  # register the dependent one\n",
    "meas.write_period = 2\n",
    "\n",
    "with meas.run() as datasaver:\n",
    "    for set_v in np.linspace(0, 0.5, 50):\n",
    "        dac.ch1.set(set_v)\n",
    "        get_v = dmm.v1.get()\n",
    "        datasaver.add_result((dac.ch1, set_v),\n",
    "                             (dmm.v1, get_v))   \n",
    "    # Retain the current data ID for plotting\n",
    "    dataid = datasaver.run_id\n",
    "\n",
    "# Plot the data\n",
    "axs, cbar = plot_by_id(dataid)"
   ]
  },
  {
   "cell_type": "markdown",
   "metadata": {},
   "source": [
    "Check out interdependent parameters in the [documentation](http://qcodes.github.io/Qcodes/dataset/interdependentparams.html). It explains how to use ```inferred_from``` and ```depends_on``` when registering parameters."
   ]
  },
  {
   "cell_type": "markdown",
   "metadata": {
    "slideshow": {
     "slide_type": "slide"
    }
   },
   "source": [
    "## Real instruments\n",
    "\n",
    "For a list of implemented drivers see [here](https://github.com/QCoDeS/Qcodes/tree/master/qcodes/instrument_drivers).\n",
    "\n",
    "* Most of them talk VISA.\n",
    "* Initialize with name and communication address, i.e:\n",
    "    ```python\n",
    "    from qcodes.instrument_drivers.Keysight.Keysight_E8267D import Keysight_E8267D\n",
    "    my_signal_generator = Keysight_E8267D('my_signal_generator', 'TCPIP::192.168.0.11::inst0::INSTR')\n",
    "    ```\n",
    " * unique instrument names"
   ]
  },
  {
   "cell_type": "code",
   "execution_count": 17,
   "metadata": {},
   "outputs": [],
   "source": [
    "from qcodes.instrument_drivers.Keysight.Keysight_E8267D import Keysight_E8267D\n",
    "??Keysight_E8267D"
   ]
  },
  {
   "cell_type": "markdown",
   "metadata": {
    "slideshow": {
     "slide_type": "slide"
    }
   },
   "source": [
    "### Useful tool: The [monitor](https://github.com/QCoDeS/Qcodes/tree/master/qcodes/monitor)\n",
    "\n",
    "* open terminal\n",
    "* activate qcodes environment\n",
    "* run ```python <path-to-qcodes>/qcodes/monitor/monitor.py```\n",
    "* an launch in python with ```qc.Monitor(*listofparamterstomonitor)```"
   ]
  },
  {
   "cell_type": "code",
   "execution_count": 18,
   "metadata": {},
   "outputs": [
    {
     "data": {
      "text/plain": [
       "<Monitor(Thread-5, started 123145426251776)>"
      ]
     },
     "execution_count": 18,
     "metadata": {},
     "output_type": "execute_result"
    }
   ],
   "source": [
    "listofparamterstomonitor = [dac.ch1]\n",
    "qc.Monitor(*listofparamterstomonitor)"
   ]
  },
  {
   "cell_type": "markdown",
   "metadata": {
    "slideshow": {
     "slide_type": "slide"
    }
   },
   "source": [
    "## Recap\n",
    "\n",
    "Most important ingredients for measurement recipes, all living [here](https://github.com/QCoDeS/Qcodes/tree/master/qcodes):\n",
    "\n",
    "A) Instruments:\n",
    "  * qcodes.station\n",
    "  * qcodes.instrument_drivers, see [docs](http://qcodes.github.io/Qcodes/api/generated/qcodes.instrument_drivers.html)\n",
    "\n",
    "B) Data, see [docs](http://qcodes.github.io/Qcodes/dataset/index.html#):\n",
    "  * qcodes.dataset.data_set\n",
    "  * qcodes.dataset.experiment_container\n",
    "  * qcodes.dataset.measurements\n",
    "  * qcodes.instrument.parameter\n",
    "\n",
    "\n",
    "Do not use the ```qcodes.data``` and ```qcodes.Loop```:\n",
    "* not flexible\n",
    "* deprecated"
   ]
  },
  {
   "cell_type": "markdown",
   "metadata": {
    "slideshow": {
     "slide_type": "slide"
    }
   },
   "source": [
    "## Control software requirements\n",
    "\n",
    "[x] Version control.\n",
    "\n",
    "[x] Readability.\n",
    "\n",
    "[ ] Flexibility : [some examples](https://github.com/QCoDeS/Qcodes/blob/master/docs/examples/DataSet/Dataset%20Context%20Manager.ipynb)\n",
    "\n",
    "[ ] Reproducibility.\n",
    "\n",
    "[ ] Easy data handling.\n"
   ]
  },
  {
   "cell_type": "markdown",
   "metadata": {
    "slideshow": {
     "slide_type": "slide"
    }
   },
   "source": [
    "## Reproducibility\n",
    "\n",
    "\n",
    "__Metadata__\n",
    "\n",
    "* Station snapshot - all relevant parameter values saved along with the data.\n",
    "* Metadata, i.e labels. "
   ]
  },
  {
   "cell_type": "code",
   "execution_count": 13,
   "metadata": {
    "scrolled": true
   },
   "outputs": [
    {
     "data": {
      "text/plain": [
       "{'station': {'instruments': {'dmm': {'functions': {},\n",
       "    'submodules': {},\n",
       "    '__class__': 'qcodes.tests.instrument_mocks.DummyInstrument',\n",
       "    'parameters': {'IDN': {'value': {'vendor': None,\n",
       "       'model': 'dmm',\n",
       "       'serial': None,\n",
       "       'firmware': None},\n",
       "      'ts': '2019-02-01 10:15:38',\n",
       "      'raw_value': {'vendor': None,\n",
       "       'model': 'dmm',\n",
       "       'serial': None,\n",
       "       'firmware': None},\n",
       "      '__class__': 'qcodes.instrument.parameter.Parameter',\n",
       "      'full_name': 'dmm_IDN',\n",
       "      'label': 'IDN',\n",
       "      'inter_delay': 0,\n",
       "      'vals': '<Anything>',\n",
       "      'unit': '',\n",
       "      'name': 'IDN',\n",
       "      'post_delay': 0,\n",
       "      'instrument': 'qcodes.tests.instrument_mocks.DummyInstrument',\n",
       "      'instrument_name': 'dmm'},\n",
       "     'v1': {'value': 0,\n",
       "      'ts': '2019-02-01 10:15:38',\n",
       "      'raw_value': 0,\n",
       "      '__class__': 'qcodes.instrument.parameter.Parameter',\n",
       "      'full_name': 'dmm_v1',\n",
       "      'label': 'Gate v1',\n",
       "      'inter_delay': 0,\n",
       "      'vals': '<Numbers -800<=v<=400>',\n",
       "      'unit': 'V',\n",
       "      'name': 'v1',\n",
       "      'post_delay': 0,\n",
       "      'instrument': 'qcodes.tests.instrument_mocks.DummyInstrument',\n",
       "      'instrument_name': 'dmm'},\n",
       "     'v2': {'value': 0,\n",
       "      'ts': '2019-02-01 10:15:38',\n",
       "      'raw_value': 0,\n",
       "      '__class__': 'qcodes.instrument.parameter.Parameter',\n",
       "      'full_name': 'dmm_v2',\n",
       "      'label': 'Gate v2',\n",
       "      'inter_delay': 0,\n",
       "      'vals': '<Numbers -800<=v<=400>',\n",
       "      'unit': 'V',\n",
       "      'name': 'v2',\n",
       "      'post_delay': 0,\n",
       "      'instrument': 'qcodes.tests.instrument_mocks.DummyInstrument',\n",
       "      'instrument_name': 'dmm'}},\n",
       "    'name': 'dmm'},\n",
       "   'dac': {'functions': {},\n",
       "    'submodules': {},\n",
       "    '__class__': 'qcodes.tests.instrument_mocks.DummyInstrument',\n",
       "    'parameters': {'IDN': {'value': {'vendor': None,\n",
       "       'model': 'dac',\n",
       "       'serial': None,\n",
       "       'firmware': None},\n",
       "      'ts': '2019-02-01 10:15:38',\n",
       "      'raw_value': {'vendor': None,\n",
       "       'model': 'dac',\n",
       "       'serial': None,\n",
       "       'firmware': None},\n",
       "      '__class__': 'qcodes.instrument.parameter.Parameter',\n",
       "      'full_name': 'dac_IDN',\n",
       "      'label': 'IDN',\n",
       "      'inter_delay': 0,\n",
       "      'vals': '<Anything>',\n",
       "      'unit': '',\n",
       "      'name': 'IDN',\n",
       "      'post_delay': 0,\n",
       "      'instrument': 'qcodes.tests.instrument_mocks.DummyInstrument',\n",
       "      'instrument_name': 'dac'},\n",
       "     'ch1': {'value': 0,\n",
       "      'ts': '2019-02-01 10:15:38',\n",
       "      'raw_value': 0,\n",
       "      '__class__': 'qcodes.instrument.parameter.Parameter',\n",
       "      'full_name': 'dac_ch1',\n",
       "      'label': 'Gate ch1',\n",
       "      'inter_delay': 0,\n",
       "      'vals': '<Numbers -800<=v<=400>',\n",
       "      'unit': 'V',\n",
       "      'name': 'ch1',\n",
       "      'post_delay': 0,\n",
       "      'instrument': 'qcodes.tests.instrument_mocks.DummyInstrument',\n",
       "      'instrument_name': 'dac'},\n",
       "     'ch2': {'value': 0,\n",
       "      'ts': '2019-02-01 10:15:38',\n",
       "      'raw_value': 0,\n",
       "      '__class__': 'qcodes.instrument.parameter.Parameter',\n",
       "      'full_name': 'dac_ch2',\n",
       "      'label': 'Gate ch2',\n",
       "      'inter_delay': 0,\n",
       "      'vals': '<Numbers -800<=v<=400>',\n",
       "      'unit': 'V',\n",
       "      'name': 'ch2',\n",
       "      'post_delay': 0,\n",
       "      'instrument': 'qcodes.tests.instrument_mocks.DummyInstrument',\n",
       "      'instrument_name': 'dac'}},\n",
       "    'name': 'dac'}},\n",
       "  'parameters': {},\n",
       "  'components': {},\n",
       "  'default_measurement': []}}"
      ]
     },
     "execution_count": 13,
     "metadata": {},
     "output_type": "execute_result"
    }
   ],
   "source": [
    "from qcodes.dataset.experiment_container import load_by_id\n",
    "\n",
    "ds = load_by_id(dataid)\n",
    "ds.snapshot"
   ]
  },
  {
   "cell_type": "code",
   "execution_count": null,
   "metadata": {
    "slideshow": {
     "slide_type": "slide"
    }
   },
   "outputs": [],
   "source": [
    "# Get the data\n",
    "print(\"Parameters:\")\n",
    "print(ds.get_parameters)\n",
    "x = ds.get_data(\"dac_ch1\")\n",
    "y = ds.get_data(\"dmm_v1\")\n",
    "\n",
    "print(\"Data:\")\n",
    "print(x)\n",
    "print(y)"
   ]
  },
  {
   "cell_type": "code",
   "execution_count": null,
   "metadata": {
    "slideshow": {
     "slide_type": "slide"
    }
   },
   "outputs": [],
   "source": [
    "??qc.dataset.data_set.DataSet"
   ]
  },
  {
   "cell_type": "markdown",
   "metadata": {
    "slideshow": {
     "slide_type": "slide"
    }
   },
   "source": [
    "## Easy data handling\n",
    "\n",
    "* datasets grouped by experiments\n",
    "* run ID\n",
    "* unique ID - GUID:\n",
    "    * format '12345678-1234-1234-1234-123456789abc'\n",
    "    * encoding location, works station and time\n",
    "    * location and work station specified in qcodes [configuration file](http://qcodes.github.io/Qcodes/user/configuration.html)\n",
    "* searchable database "
   ]
  },
  {
   "cell_type": "code",
   "execution_count": null,
   "metadata": {
    "slideshow": {
     "slide_type": "slide"
    }
   },
   "outputs": [],
   "source": [
    "ds.guid"
   ]
  },
  {
   "cell_type": "markdown",
   "metadata": {
    "slideshow": {
     "slide_type": "slide"
    }
   },
   "source": [
    "### Check out the database\n",
    "\n",
    "With [DB Browser for SQLite](https://sqlitebrowser.org/).\n",
    "![](./db_viewer_screenshot.png)"
   ]
  },
  {
   "cell_type": "markdown",
   "metadata": {
    "slideshow": {
     "slide_type": "slide"
    }
   },
   "source": [
    "## Where to start\n",
    "\n",
    "### Examples\n",
    "\n",
    "Up to date examples are in [Qcodes/docs/examples/DataSet](https://github.com/QCoDeS/Qcodes/tree/master/docs/examples/DataSet).\n",
    "\n",
    "* Go-to notebook when setting up measurements: [Dataset Context Manager](https://github.com/QCoDeS/Qcodes/blob/master/docs/examples/DataSet/Dataset%20Context%20Manager.ipynb).\n",
    "* Details about QCoDes setup, database and experiments: [The Experiment Container](https://github.com/QCoDeS/Qcodes/blob/master/docs/examples/DataSet/The%20Experiment%20Container.ipynb).\n",
    "* How to run sweeps: [Implementing doND using the dataset](https://github.com/QCoDeS/Qcodes/blob/master/docs/examples/DataSet/Implementing_doND_using_the_dataset.ipynb).\n",
    "* Useful when digging deeper: [Paramtypes explained](https://github.com/QCoDeS/Qcodes/blob/master/docs/examples/DataSet/Paramtypes%20explained.ipynb).\n",
    "\n",
    "### Get in touch\n",
    "\n",
    "* Send email to the core developers (emails in their GitHub commits).\n",
    "* Sign up for the Slack channel by sending an email to Jens."
   ]
  },
  {
   "cell_type": "markdown",
   "metadata": {},
   "source": [
    "## For advanced users\n",
    "\n",
    "* Check out the [Station Configurator](https://github.com/qdev-dk/qdev-wrappers/blob/master/qdev_wrappers/station_configurator.py).\n",
    "* Keen to contribute? See [instructions](https://github.com/QCoDeS/Qcodes/blob/master/CONTRIBUTING.rst) and get started!"
   ]
  },
  {
   "cell_type": "code",
   "execution_count": null,
   "metadata": {},
   "outputs": [],
   "source": []
  },
  {
   "cell_type": "code",
   "execution_count": null,
   "metadata": {},
   "outputs": [],
   "source": []
  },
  {
   "cell_type": "code",
   "execution_count": null,
   "metadata": {},
   "outputs": [],
   "source": []
  }
 ],
 "metadata": {
  "celltoolbar": "Slideshow",
  "kernelspec": {
   "display_name": "Python 3",
   "language": "python",
   "name": "python3"
  },
  "language_info": {
   "codemirror_mode": {
    "name": "ipython",
    "version": 3
   },
   "file_extension": ".py",
   "mimetype": "text/x-python",
   "name": "python",
   "nbconvert_exporter": "python",
   "pygments_lexer": "ipython3",
   "version": "3.6.8"
  }
 },
 "nbformat": 4,
 "nbformat_minor": 2
}
