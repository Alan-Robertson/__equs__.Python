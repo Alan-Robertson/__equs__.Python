{
 "cells": [
  {
   "cell_type": "markdown",
   "metadata": {
    "slideshow": {
     "slide_type": "slide"
    }
   },
   "source": [
    "<img src=\"https://raw.githubusercontent.com/Qiskit/qiskit-tutorials/master/images/qiskit-heading.png\" width=\"1000 px\" align=\"left\">"
   ]
  },
  {
   "cell_type": "markdown",
   "metadata": {
    "slideshow": {
     "slide_type": "-"
    }
   },
   "source": [
    "annaphan@au.ibm.com <br>_1 February 2019_"
   ]
  },
  {
   "cell_type": "code",
   "execution_count": 1,
   "metadata": {
    "slideshow": {
     "slide_type": "skip"
    }
   },
   "outputs": [],
   "source": [
    "# This notebook can be presented as a deck by uncommenting and running:\n",
    "#!jupyter nbconvert ./AP-qiskit_intro.ipynb --to slides --post serve\n",
    "\n",
    "# Or by installing RISE: https://damianavila.github.io/RISE/."
   ]
  },
  {
   "cell_type": "markdown",
   "metadata": {
    "slideshow": {
     "slide_type": "fragment"
    }
   },
   "source": [
    "# Outline\n",
    "* IBM Quantum Hardware\n",
    "* Qiskit Overview\n",
    "* Qiskit Demonstrations\n",
    "  - Qiskit Terra Transpiler\n",
    "  - Qiskit Ignis $T_1$ Measurement\n",
    "  - Qiskit Aer Noise Simulation\n",
    "  - Qiskit Aqua Quantum Machine Learning"
   ]
  },
  {
   "cell_type": "markdown",
   "metadata": {
    "slideshow": {
     "slide_type": "fragment"
    }
   },
   "source": [
    "_Please interject with questions, comments, or corrections._"
   ]
  },
  {
   "cell_type": "markdown",
   "metadata": {
    "slideshow": {
     "slide_type": "slide"
    }
   },
   "source": [
    "# IBM Quantum Hardware\n",
    "\n",
    "* IBM Q Experience (QX)\n",
    "  - Previous:\n",
    "    * 5 qubit device (Yorktown)\n",
    "    * 16 qubit device (Rüschlikon)\n",
    "  - Current:\n",
    "    * 5 qubit device (Tenerife)\n",
    "    * 14 qubit device (Melbourne)\n",
    "* IBM Q Network\n",
    "  - Previous: 20 qubit device (Austin)\n",
    "  - Current: 20 qubit device (Tokyo)\n",
    "  - Future: 50 qubit device\n",
    "  \n",
    "This [getting started tutorial notebook](https://github.com/Qiskit/qiskit-tutorials/blob/master/qiskit/basics/getting_started_with_qiskit_terra.ipynb) will show you how to gain access to the QX hardware."
   ]
  },
  {
   "cell_type": "code",
   "execution_count": 2,
   "metadata": {
    "slideshow": {
     "slide_type": "fragment"
    }
   },
   "outputs": [
    {
     "name": "stdout",
     "output_type": "stream",
     "text": [
      "ibmq_16_melbourne           ibmqx4\n",
      "-----------------           ------\n",
      "Num. Qubits:  14            Num. Qubits:  5\n",
      "Pending Jobs: 1             Pending Jobs: 8\n",
      "Least busy:   True          Least busy:   False\n",
      "Operational:  True          Operational:  True\n",
      "Avg. T1:      53.9          Avg. T1:      51.9\n",
      "Avg. T2:      68.0          Avg. T2:      18.9\n",
      "\n",
      "\n",
      "\n"
     ]
    }
   ],
   "source": [
    "from qiskit import IBMQ\n",
    "IBMQ.load_accounts(hub=None)\n",
    "\n",
    "from qiskit.tools.monitor import backend_overview\n",
    "backend_overview()"
   ]
  },
  {
   "cell_type": "markdown",
   "metadata": {
    "slideshow": {
     "slide_type": "slide"
    }
   },
   "source": [
    "<img src=\"https://cdn-images-1.medium.com/max/716/1*PCitWbwqQPJIlWJpIOv8sA.jpeg\" width=\"1500 px\" align=\"center\">"
   ]
  },
  {
   "cell_type": "markdown",
   "metadata": {
    "slideshow": {
     "slide_type": "notes"
    }
   },
   "source": [
    "Terra, the ‘earth’ element, is the foundation on which the rest of the software lies. Terra provides a bedrock for composing quantum programs at the level of circuits and pulses, to optimize them for the constraints of a particular device, and to manage the execution of batches of experiments on remote-access devices. Terra defines the interfaces for a desirable end-user experience, as well as the efficient handling of layers of optimization, pulse scheduling and backend communication.\n",
    "\n",
    "Aqua, the ‘water’ element, is the element of life. To make quantum computing live up to its expectations, we need to find real-world applications. Aqua is where algorithms for NISQ computers are built. These algorithms can be used to build applications for quantum computing. Aqua is accessible to domain experts in chemistry, optimization or AI, who want to explore the benefits of using quantum computers as accelerators for specific computational tasks, without needing to worry about how to translate the problem into the language of quantum machines.\n",
    "\n",
    "Ignis, the ‘fire’ element, is dedicated to fighting noise and errors and to forging a new path. This includes better characterization of errors, improving gates, and computing in the presence of noise. Ignis is meant for those who want to design quantum error correction codes, or who wish to study ways to characterize errors through methods such as tomography, or even to find a better way for using gates by exploring dynamical decoupling and optimal control. While we have already released parts of this element as part of libraries in Terra, an official stand-alone release will come soon.\n",
    "\n",
    "Aer, the ‘air’ element, permeates all Qiskit elements. To really speed up development of quantum computers we need better simulators, emulators and debuggers. At IBM Q, we have built high-quality, high-performance simulators and continue to improve their scalability and features. Aer will help us understand the limits of classical processors by demonstrating to what extent they can mimic quantum computation. Furthermore, we can use Aer to verify that current and near-future quantum computers function correctly. This can be done by stretching the limits of simulation to accommodate 50+ qubits with reasonably high depth, and by simulating the effects of realistic noise on the computation."
   ]
  },
  {
   "cell_type": "markdown",
   "metadata": {
    "slideshow": {
     "slide_type": "slide"
    }
   },
   "source": [
    "## Basic Qiskit Example"
   ]
  },
  {
   "cell_type": "code",
   "execution_count": 3,
   "metadata": {
    "slideshow": {
     "slide_type": "-"
    }
   },
   "outputs": [],
   "source": [
    "from qiskit import QuantumRegister, ClassicalRegister, QuantumCircuit\n",
    "from qiskit import Aer, IBMQ, execute"
   ]
  },
  {
   "cell_type": "code",
   "execution_count": 4,
   "metadata": {
    "slideshow": {
     "slide_type": "-"
    }
   },
   "outputs": [
    {
     "data": {
      "image/png": "[encoded data removed]",
      "text/plain": [
       "<Figure size 421.4x258.86 with 1 Axes>"
      ]
     },
     "execution_count": 4,
     "metadata": {},
     "output_type": "execute_result"
    }
   ],
   "source": [
    "q = QuantumRegister(2)             # Create a Quantum Register with 2 qubits\n",
    "c = ClassicalRegister(2)           # Create a Classical Register with 2 bits\n",
    "bell_circuit = QuantumCircuit(q,c) # Create a Quantum Circuit with the registers\n",
    "\n",
    "bell_circuit.h(q[0])        # Perform a Hadamard on the first qubit\n",
    "bell_circuit.cx(q[0], q[1]) # Perform a CNOT between the first and second qubits\n",
    "bell_circuit.measure(q,c)   # measure the quantum registers\n",
    "\n",
    "bell_circuit.draw(output=\"mpl\") # Draw the circuit using matplotlib"
   ]
  },
  {
   "cell_type": "code",
   "execution_count": 5,
   "metadata": {
    "slideshow": {
     "slide_type": "subslide"
    }
   },
   "outputs": [
    {
     "name": "stdout",
     "output_type": "stream",
     "text": [
      "{'11': 515, '00': 509}\n"
     ]
    }
   ],
   "source": [
    "# Simulate the circuit\n",
    "sim_backend = Aer.get_backend('qasm_simulator')\n",
    "sim_job = execute(bell_circuit, sim_backend, shots=1024)\n",
    "sim_counts = sim_job.result().get_counts(bell_circuit)\n",
    "print(sim_counts)"
   ]
  },
  {
   "cell_type": "code",
   "execution_count": 6,
   "metadata": {
    "slideshow": {
     "slide_type": "-"
    }
   },
   "outputs": [
    {
     "name": "stdout",
     "output_type": "stream",
     "text": [
      "The best backend is ibmq_16_melbourne with pending jobs 1\n"
     ]
    }
   ],
   "source": [
    "# Select the least busy device with more than 6 qubits to run the circuit - note that this always returns \n",
    "from qiskit.providers.ibmq import least_busy\n",
    "backend = least_busy(IBMQ.backends(filters = lambda x: x.configuration().n_qubits > 6 and\n",
    "                                                       not x.configuration().simulator))\n",
    "status = backend.status().to_dict()\n",
    "print(\"The best backend is \" + backend.name() + \" with pending jobs \" + str(status[\"pending_jobs\"]))"
   ]
  },
  {
   "cell_type": "code",
   "execution_count": 7,
   "metadata": {
    "slideshow": {
     "slide_type": "-"
    }
   },
   "outputs": [
    {
     "name": "stdout",
     "output_type": "stream",
     "text": [
      "{'11': 366, '01': 86, '00': 521, '10': 51}\n"
     ]
    }
   ],
   "source": [
    "# Run the circuit on the selected device\n",
    "dev_job = execute(bell_circuit, backend=backend, shots=1024)\n",
    "dev_counts = dev_job.result().get_counts(bell_circuit)\n",
    "print(dev_counts)"
   ]
  },
  {
   "cell_type": "code",
   "execution_count": 8,
   "metadata": {
    "slideshow": {
     "slide_type": "-"
    }
   },
   "outputs": [
    {
     "data": {
      "image/png": "[encoded data removed]",
      "text/plain": [
       "<Figure size 504x360 with 1 Axes>"
      ]
     },
     "execution_count": 8,
     "metadata": {},
     "output_type": "execute_result"
    }
   ],
   "source": [
    "# Visualise the results as a histogram\n",
    "from qiskit.tools.visualization import plot_histogram\n",
    "plot_histogram([dev_counts,sim_counts])"
   ]
  },
  {
   "cell_type": "markdown",
   "metadata": {
    "slideshow": {
     "slide_type": "slide"
    }
   },
   "source": [
    "# Qiskit Terra\n",
    "\n",
    "Right now (Version 0.7) Terra’s core service is the compilation and execution of quantum circuits for arbitrary backends, and shipping jobs to backends\n",
    "  * Terra can take the same circuit object and compile and run it on any quantum hardware or simulator\n",
    "  * It also includes operations for circuit construction, including loading QASM\n",
    "  * Terra also optimizes the circuit, and allows for plug-and-play transpilation options\n",
    "  * Several local simulators are currently included in Terra, but these will soon move to Aer\n",
    "  * Terra has IBM Q API connections built in - it will send your job to your desired backend and collect the results"
   ]
  },
  {
   "cell_type": "markdown",
   "metadata": {
    "slideshow": {
     "slide_type": "fragment"
    }
   },
   "source": [
    "In the future, Terra will include:\n",
    "\n",
    "  * OpenPulse, pulse level control of IBM Quantum Hardware\n",
    "  * More convenience operations for constructing sophisticated circuits\n",
    "\n",
    "Keep in mind:\n",
    "\n",
    "  * Terra is not a language per se, but more of a large piece of infrastructure. Some code may seem unnecessary for the one thing you’re doing, but in many cases it’s necessary for Qiskit to be robust.\n",
    "  * Qiskit is very much a work in progress. It is changing rapidly to converge toward the needs of its users. We welcome and are grateful for feedback."
   ]
  },
  {
   "cell_type": "markdown",
   "metadata": {
    "slideshow": {
     "slide_type": "subslide"
    }
   },
   "source": [
    "## Qiskit Terra Transpiler\n",
    "\n",
    "The transpiler is the workhorse of Terra. It’s how we keep circuits backend agnostic and compilable for arbitrary quantum hardware. The transpiler transpiles circuits into circuits allowing the end user to view and understand what individual transpiler passes are doing to their circuit. Here's a sample circuit that won't fit nicely on IBM's hardware:"
   ]
  },
  {
   "cell_type": "code",
   "execution_count": 9,
   "metadata": {
    "slideshow": {
     "slide_type": "-"
    }
   },
   "outputs": [],
   "source": [
    "from qiskit.transpiler import transpile, PassManager\n",
    "from qiskit.transpiler.passes import BasicSwap, CXCancellation, LookaheadSwap, StochasticSwap\n",
    "from qiskit.mapper import CouplingMap"
   ]
  },
  {
   "cell_type": "code",
   "execution_count": 10,
   "metadata": {
    "slideshow": {
     "slide_type": "-"
    }
   },
   "outputs": [
    {
     "data": {
      "image/png": "[encoded data removed]",
      "text/plain": [
       "<Figure size 541.8x439.46 with 1 Axes>"
      ]
     },
     "execution_count": 10,
     "metadata": {},
     "output_type": "execute_result"
    }
   ],
   "source": [
    "qr = QuantumRegister(7)\n",
    "tpl_circuit = QuantumCircuit(qr)\n",
    "tpl_circuit.h(qr[3])\n",
    "tpl_circuit.cx(qr[0], qr[6])\n",
    "tpl_circuit.cx(qr[6], qr[0])\n",
    "tpl_circuit.cx(qr[0], qr[1])\n",
    "tpl_circuit.cx(qr[3], qr[1])\n",
    "tpl_circuit.cx(qr[3], qr[0])\n",
    "tpl_circuit.draw(output=\"mpl\")"
   ]
  },
  {
   "cell_type": "markdown",
   "metadata": {
    "slideshow": {
     "slide_type": "subslide"
    }
   },
   "source": [
    "The most naive thing we can do is simply move qubits around greedily with swaps. That's what `BasicSwap` does:"
   ]
  },
  {
   "cell_type": "code",
   "execution_count": 11,
   "metadata": {
    "slideshow": {
     "slide_type": "-"
    }
   },
   "outputs": [
    {
     "data": {
      "image/png": "[encoded data removed]",
      "text/plain": [
       "<Figure size 1083.6x439.46 with 1 Axes>"
      ]
     },
     "execution_count": 11,
     "metadata": {},
     "output_type": "execute_result"
    }
   ],
   "source": [
    "coupling = [[0, 1], [1, 2], [2, 3], [3, 4], [4, 5], [5, 6]]\n",
    "\n",
    "simulator = Aer.get_backend('qasm_simulator')\n",
    "coupling_map = CouplingMap(couplinglist=coupling)\n",
    "pass_manager = PassManager()\n",
    "pass_manager.append([BasicSwap(coupling_map=coupling_map)])\n",
    "basic_circ = transpile(tpl_circuit, simulator, pass_manager=pass_manager)\n",
    "basic_circ.draw(output=\"mpl\")"
   ]
  },
  {
   "cell_type": "markdown",
   "metadata": {
    "slideshow": {
     "slide_type": "subslide"
    }
   },
   "source": [
    "It's a solution, but it's not great. Let’s try [Sven Jandura's LookaheadSwap](https://medium.com/qiskit/improving-a-quantum-compiler-48410d7a7084), submitted for the [2018 QISKit\n",
    "Developer Challenge](https://www.ibm.com/blogs/research/2018/08/winners-qiskit-developer-challenge/). Sven’s swap pass was merged into Terra, and we will have two more passes from [other](https://medium.com/qiskit/how-computer-aided-design-helped-me-winning-the-qiskit-developer-challenge-4b1b60c8930f) [winners](https://medium.com/qiskit/constraints-on-quantum-circuits-and-getting-around-them-7de973bd1a18) of the Qiskit Developer Challenge soon! "
   ]
  },
  {
   "cell_type": "code",
   "execution_count": 12,
   "metadata": {
    "slideshow": {
     "slide_type": "-"
    }
   },
   "outputs": [
    {
     "data": {
      "image/png": "[encoded data removed]",
      "text/plain": [
       "<Figure size 722.4x439.46 with 1 Axes>"
      ]
     },
     "execution_count": 12,
     "metadata": {},
     "output_type": "execute_result"
    }
   ],
   "source": [
    "pass_manager = PassManager()\n",
    "pass_manager.append([LookaheadSwap(coupling_map=coupling_map)])\n",
    "lookahead_circ = transpile(tpl_circuit, simulator, pass_manager=pass_manager)\n",
    "lookahead_circ.draw(output=\"mpl\")"
   ]
  },
  {
   "cell_type": "markdown",
   "metadata": {
    "slideshow": {
     "slide_type": "subslide"
    }
   },
   "source": [
    "Better! One more try with StochasticSwap:"
   ]
  },
  {
   "cell_type": "code",
   "execution_count": 13,
   "metadata": {},
   "outputs": [
    {
     "data": {
      "image/png": "[encoded data removed]",
      "text/plain": [
       "<Figure size 842.8x439.46 with 1 Axes>"
      ]
     },
     "execution_count": 13,
     "metadata": {},
     "output_type": "execute_result"
    }
   ],
   "source": [
    "pass_manager = PassManager()\n",
    "pass_manager.append([StochasticSwap(coupling_map=coupling_map)])\n",
    "stoch_circ = transpile(tpl_circuit, simulator, pass_manager=pass_manager)\n",
    "stoch_circ.draw(output=\"mpl\")"
   ]
  },
  {
   "cell_type": "markdown",
   "metadata": {
    "slideshow": {
     "slide_type": "fragment"
    }
   },
   "source": [
    "Hm... this doesn't look right, there's swaps and gates between unconnected qubits. Looking through the Qiskit Terra GitHub [issues](https://github.com/Qiskit/qiskit-terra/issues) and [pull requests](https://github.com/Qiskit/qiskit-terra/pulls), this has been [documented](https://github.com/Qiskit/qiskit-terra/issues/1573) and [addressed](https://github.com/Qiskit/qiskit-terra/pull/1722) for the next release."
   ]
  },
  {
   "cell_type": "markdown",
   "metadata": {
    "slideshow": {
     "slide_type": "fragment"
    }
   },
   "source": [
    "We’re constructing a diverse set of passes, many user contributed, to meet the wide-ranging needs and mapping scenarios of circuits in the wild. Right now this all happens behind the scenes for many users, but we hope that these tools make digging into transpilation much more accessible to those attempting to squeeze as much performance as possible out of their experiments on hardware."
   ]
  },
  {
   "cell_type": "markdown",
   "metadata": {
    "slideshow": {
     "slide_type": "subslide"
    }
   },
   "source": [
    "Finally, let's see what the default transpiler does to our circuit to be able to run on a real backend. Note that this will include unrolling into the {U, CX} basis, including the swaps."
   ]
  },
  {
   "cell_type": "code",
   "execution_count": 14,
   "metadata": {},
   "outputs": [
    {
     "data": {
      "text/html": [
       "<pre style=\"word-wrap: normal;white-space: pre;line-height: 15px;\">                                                                                                                                                                                                  »\n",
       " q_0: |0>─────────────────────────────────────────────────────────────────────────────────────────────────────────────────────────────────────────────────────────────────────────────────────────»\n",
       "                                                                                                                                                                                                  »\n",
       " q_1: |0>─────────────────────────────────────────────────────────────────────────────────────────────────────────────────────────────────────────────────────────────────────────────────────────»\n",
       "                                                                                                                                                                                                  »\n",
       " q_2: |0>─────────────────────────────────────────────────────────────────────────────────────────────────────────────────────────────────────────────────────────────────────────────────────────»\n",
       "                                                                                                                        ┌──────────────┐┌───┐┌──────────────┐                ┌───┐┌──────────────┐»\n",
       " q_3: |0>───────────────────────────────────────────────────────────────────────────────────────────────────────────────┤ U2(0,3.1416) ├┤ X ├┤ U2(0,3.1416) ├────────────────┤ X ├┤ U2(0,3.1416) ├»\n",
       "                                                                                                        ┌──────────────┐└──────────────┘└─┬─┘└──────────────┘┌──────────────┐└─┬─┘└──────────────┘»\n",
       " q_4: |0>───────────────────────────────────────────────────────────────────────────────────────────────┤ U2(0,3.1416) ├──────────────────■──────────────────┤ U2(0,3.1416) ├──■──────────────────»\n",
       "                                                                                                        └──────────────┘                                     └──────────────┘                     »\n",
       " q_5: |0>─────────────────────────────────────────────────────────────────────────────────────────────────────────────────────────────────────────────────────────────────────────────────────────»\n",
       "                                                                                                                                                                                                  »\n",
       " q_6: |0>─────────────────────────────────────────────────────────────────────────────────────────────────────────────────────────────────────────────────────────────────────────────────────────»\n",
       "                                                                                                                                                                                                  »\n",
       " q_7: |0>─────────────────────────────────────────────────────────────────────────────────────────────────────────────────────────────────────────────────────────────────────────────────────────»\n",
       "                                                                                                                                                                                                  »\n",
       " q_8: |0>─────────────────────────────────────────────────────────────────────────────────────────────────────────────────────────────────────────────────────────────────────────────────────────»\n",
       "                                                                                                                                                                                                  »\n",
       " q_9: |0>─────────────────────────────────────────────────────────────────────────────────────────────────────────────────────────────────────────────────────────────────────────────────────────»\n",
       "                                                                                                                                                                                                  »\n",
       "q_10: |0>─────────────────────────────────────────────────────────────────────────────────────────────────────────────────────────────────────────────────────────────────────────────────────────»\n",
       "         ┌──────────────┐                     ┌──────────────┐                     ┌──────────────┐                                                                                               »\n",
       "q_11: |0>┤ U2(0,3.1416) ├──■──────────────────┤ U2(0,3.1416) ├──■──────────────────┤ U2(0,3.1416) ├──■────────────────────────────────────────────────────────────────────────────────────────────»\n",
       "         └──────────────┘┌─┴─┐┌──────────────┐└──────────────┘┌─┴─┐┌──────────────┐└──────────────┘┌─┴─┐                                                                                          »\n",
       "q_12: |0>────────────────┤ X ├┤ U2(0,3.1416) ├────────────────┤ X ├┤ U2(0,3.1416) ├────────────────┤ X ├──────────────────────────────────────────────────────────────────────────────────────────»\n",
       "                         └───┘└──────────────┘                └───┘└──────────────┘                └───┘                                                                                          »\n",
       "q_13: |0>─────────────────────────────────────────────────────────────────────────────────────────────────────────────────────────────────────────────────────────────────────────────────────────»\n",
       "                                                                                                                                                                                                  »\n",
       "«                                                                                                                                                    \n",
       "« q_0: ──────────────────────────────────────────────────────────────────────────────────────────────────────────────────────────────────────────────\n",
       "«                                                                                                                                                    \n",
       "« q_1: ──────────────────────────────────────────────────────────────────────────────────────────────────────────────────────────────────────────────\n",
       "«      ┌──────────────┐                     ┌──────────────┐┌───┐                                                                                    \n",
       "« q_2: ┤ U2(0,3.1416) ├──■──────────────────┤ U2(0,3.1416) ├┤ X ├────────────────────────────────────────────────────────────────────────────────────\n",
       "«      └──────────────┘┌─┴─┐┌──────────────┐└──────────────┘└─┬─┘                                                                               ┌───┐\n",
       "« q_3: ────────────────┤ X ├┤ U2(0,3.1416) ├──────────────────┼─────────────────────────────────────────────────────────────────────────────────┤ X ├\n",
       "«                      └───┘└──────────────┘                  │                                                                                 └─┬─┘\n",
       "« q_4: ───────────────────────────────────────────────────────┼───────────────────────────────────────────────────────────────────────────────────┼──\n",
       "«                                                             │                                                                                   │  \n",
       "« q_5: ───────────────────────────────────────────────────────┼───────────────────────────────────────────────────────────────────────────────────┼──\n",
       "«                                                             │                                                                                   │  \n",
       "« q_6: ───────────────────────────────────────────────────────┼───────────────────────────────────────────────────────────────────────────────────┼──\n",
       "«                                                             │                                                                                   │  \n",
       "« q_7: ───────────────────────────────────────────────────────┼───────────────────────────────────────────────────────────────────────────────────┼──\n",
       "«                                                             │                                                                                   │  \n",
       "« q_8: ───────────────────────────────────────────────────────┼───────────────────────────────────────────────────────────────────────────────────┼──\n",
       "«                                                             │                                                                                   │  \n",
       "« q_9: ───────────────────────────────────────────────────────┼───────────────────────────────────────────────────────────────────────────────────┼──\n",
       "«                                                             │                                                                                   │  \n",
       "«q_10: ───────────────────────────────────────────────────────┼───────────────────────────────────────────────────────────────────────────────────┼──\n",
       "«                                                             │                       ┌──────────────┐                     ┌──────────────┐       │  \n",
       "«q_11: ───────────────────────────────────────────────────────┼────■──────────────────┤ U2(0,3.1416) ├──■──────────────────┤ U2(0,3.1416) ├──■────■──\n",
       "«                                                             │  ┌─┴─┐┌──────────────┐└──────────────┘┌─┴─┐┌──────────────┐└──────────────┘┌─┴─┐     \n",
       "«q_12: ───────────────────────────────────────────────────────■──┤ X ├┤ U2(0,3.1416) ├────────────────┤ X ├┤ U2(0,3.1416) ├────────────────┤ X ├─────\n",
       "«                                                                └───┘└──────────────┘                └───┘└──────────────┘                └───┘     \n",
       "«q_13: ──────────────────────────────────────────────────────────────────────────────────────────────────────────────────────────────────────────────\n",
       "«                                                                                                                                                    </pre>"
      ],
      "text/plain": [
       "<qiskit.tools.visualization._text.TextDrawing at 0x1252c60f0>"
      ]
     },
     "execution_count": 14,
     "metadata": {},
     "output_type": "execute_result"
    }
   ],
   "source": [
    "tpl_ibmq_circ = transpile(tpl_circuit, backend=backend)\n",
    "tpl_ibmq_circ.draw(line_length=200)"
   ]
  },
  {
   "cell_type": "markdown",
   "metadata": {
    "slideshow": {
     "slide_type": "slide"
    }
   },
   "source": [
    "# Qiskit Ignis\n",
    "\n",
    "Qiskit Ignis will be released later this year and will include tools for system characterisation and banchmarking such as state and process tomography, measurement correction, and more...\n",
    "\n",
    "It is already possible to do some of these operations in Qiskit Terra, and here we go through an example where we estimate $T_1$ for one of the qubits on the 14 qubit ladder device, following this [relaxation and decoherence tutorial notebook](https://github.com/Qiskit/qiskit-tutorials/blob/master/qiskit/ignis/relaxation_and_decoherence.ipynb)."
   ]
  },
  {
   "cell_type": "markdown",
   "metadata": {
    "slideshow": {
     "slide_type": "fragment"
    }
   },
   "source": [
    "## Qiskit 'Ignis' $T_1$ Measurement\n",
    "\n",
    "A simple way of estimating the $T_{1}$ time is to collect statistics about the decay curve for $P_{1}(t)$ when the qubit is initialized to $|1\\rangle$. This can be done by choosing a variety of times $t_{1}, t_{2}, \\cdots t_{N}$, and then running the following experiment many times:\n",
    "\n",
    "  * Prepare the qubit in $|1\\rangle$.\n",
    "  * Wait a delay time $t_{j}$.\n",
    "  * Measure the qubit in the $|0\\rangle, |1\\rangle$ basis.\n",
    "\n",
    "An estimate of $P_{1}(t_{j})$ is the number of times the qubit was observed to be in $|1\\rangle$, divided by the total number of times the experiment was repeated. Given several estimated values of $P_{1}$ for a variety of $(t_{j})$, we can fit the resulting decay curve is fit to an exponential and extract an estimate of $\\Gamma_{1}$, and hence, the $T_{1}$ time."
   ]
  },
  {
   "cell_type": "markdown",
   "metadata": {
    "slideshow": {
     "slide_type": "fragment"
    }
   },
   "source": [
    "Qiskit does not currently support delays of arbitrary length, so for now, we just append a series of identity operations after the initial excitation pulse. Each identity operation has the same duration of a single-qubit gate and is followed by a shorter buffer time. These parameters are backend dependent."
   ]
  },
  {
   "cell_type": "code",
   "execution_count": 15,
   "metadata": {},
   "outputs": [],
   "source": [
    "# Function that adds N identity gates to the qr quantum register in the given circuit\n",
    "def pad_id(circuit,N,qr):\n",
    "    for j in range(N):\n",
    "        circuit.barrier(qr)\n",
    "        circuit.iden(qr)\n",
    "    return circuit    "
   ]
  },
  {
   "cell_type": "code",
   "execution_count": 16,
   "metadata": {
    "slideshow": {
     "slide_type": "subslide"
    }
   },
   "outputs": [],
   "source": [
    "# Select qubit whose T1 is to be measured\n",
    "t1_qubit = 4\n",
    "\n",
    "# Determine the number of times to run each circuit\n",
    "t1_shots = 1024\n",
    "\n",
    "# Creating registers\n",
    "qr = QuantumRegister(5)\n",
    "cr = ClassicalRegister(5)\n",
    "\n",
    "# the delay times are all set in terms of single-qubit gates\n",
    "# so we need to calculate the time from these parameters\n",
    "pulse_length = 100 # single-qubit gate time \n",
    "buffer_length = 10 # spacing between pulses\n",
    "unit = 'ns'\n",
    "\n",
    "steps = 10\n",
    "gates_per_step = 120\n",
    "max_gates = (steps - 1) * gates_per_step + 1\n",
    "tot_length = buffer_length + pulse_length\n",
    "time_per_step = gates_per_step * tot_length\n",
    "t1_qc_dict = {}\n",
    "for i in range(steps):\n",
    "    step_num = 'step_%s'%(str(i))\n",
    "    t1_qc_dict.update({step_num:QuantumCircuit(qr, cr)})\n",
    "    t1_qc_dict[step_num].x(qr[t1_qubit])\n",
    "    t1_qc_dict[step_num] = pad_id(t1_qc_dict[step_num], gates_per_step * i, qr[t1_qubit])\n",
    "    t1_qc_dict[step_num].barrier(qr[t1_qubit])\n",
    "    t1_qc_dict[step_num].measure(qr[t1_qubit], cr[t1_qubit])\n",
    "t1_circuits = list(t1_qc_dict.values())    "
   ]
  },
  {
   "cell_type": "code",
   "execution_count": 17,
   "metadata": {},
   "outputs": [],
   "source": [
    "# Run all the circuits\n",
    "t1_job = execute(t1_circuits, backend, shots=t1_shots)"
   ]
  },
  {
   "cell_type": "code",
   "execution_count": 18,
   "metadata": {
    "slideshow": {
     "slide_type": "subslide"
    }
   },
   "outputs": [
    {
     "data": {
      "image/png": "[encoded data removed]",
      "text/plain": [
       "<Figure size 432x288 with 1 Axes>"
      ]
     },
     "metadata": {
      "needs_background": "light"
     },
     "output_type": "display_data"
    },
    {
     "name": "stdout",
     "output_type": "stream",
     "text": [
      "a: 0.95 ± 0.02\n",
      "T1: 67.88 µs ± 3.29 µs\n",
      "c: 0.0 ± 0.02\n"
     ]
    }
   ],
   "source": [
    "from qiskit.tools.qcvv.fitters import exp_fit_fun, plot_coherence\n",
    "from scipy.optimize import curve_fit\n",
    "import numpy as np\n",
    "\n",
    "# arrange the data from the run\n",
    "result_t1 = t1_job.result()\n",
    "keys_0_1 = list(result_t1.get_counts(t1_qc_dict['step_0']).keys())\n",
    "excited_key = keys_0_1[0] if int(keys_0_1[1]) == 0 else keys_0_1[1] # get the key of the excited state\n",
    "data = np.zeros(len(t1_qc_dict.keys())) # numpy array for data\n",
    "sigma_data = np.zeros(len(t1_qc_dict.keys()))\n",
    "\n",
    "# change unit from ns to microseconds\n",
    "plot_factor = 1\n",
    "if unit.find('ns') >- 1:\n",
    "    plot_factor = 1000\n",
    "    punit = '$\\\\mu$s'\n",
    "# calculate the time steps in microseconds\n",
    "xvals = time_per_step * np.linspace(0, len(t1_qc_dict.keys()), len(t1_qc_dict.keys())) / plot_factor  \n",
    "\n",
    "for i,key in enumerate(t1_qc_dict.keys()):\n",
    "    # get the data in terms of counts for the excited state normalised to the total number of counts\n",
    "    data[i] = float(result_t1.get_counts(t1_qc_dict[key])[excited_key])/t1_shots\n",
    "    sigma_data[i] = np.sqrt(data[i]*(1-data[i]))/np.sqrt(t1_shots)\n",
    "\n",
    "# fit the data to an exponential    \n",
    "fitT1, fcov = curve_fit(exp_fit_fun, xvals, data, bounds=([-1,2,0],[1.,500,1])) \n",
    "ferr = np.sqrt(np.diag(fcov))\n",
    "\n",
    "plot_coherence(xvals, data, sigma_data, fitT1, exp_fit_fun, punit, 'T$_1$ ', t1_qubit)\n",
    "\n",
    "print(\"a: \" + str(round(fitT1[0],2)) + u\" \\u00B1 \" + str(round(ferr[0],2)))\n",
    "print(\"T1: \" + str(round(fitT1[1],2))+ \" µs\" + u\" \\u00B1 \" + str(round(ferr[1],2)) + ' µs')\n",
    "print(\"c: \" + str(round(fitT1[2],2)) + u\" \\u00B1 \" + str(round(ferr[2],2)))"
   ]
  },
  {
   "cell_type": "markdown",
   "metadata": {
    "slideshow": {
     "slide_type": "fragment"
    }
   },
   "source": [
    "The last calibration of $𝑇_1$ for this qubit was measured to be:"
   ]
  },
  {
   "cell_type": "code",
   "execution_count": 19,
   "metadata": {},
   "outputs": [
    {
     "name": "stdout",
     "output_type": "stream",
     "text": [
      "59.151827213713545 µs\n"
     ]
    }
   ],
   "source": [
    "print(backend.properties().qubits[t1_qubit][0].value, backend.properties().qubits[t1_qubit][0].unit)"
   ]
  },
  {
   "cell_type": "markdown",
   "metadata": {
    "slideshow": {
     "slide_type": "slide"
    }
   },
   "source": [
    "# Qiskit Aer\n",
    "\n",
    "Qiskit Aer is a high performance local simulation provider that includes: \n",
    "\n",
    "1. The `Aer` qiskit provider containing three simulator backends:\n",
    "  * `QasmSimulator`: simulates a quantum circuit and returns measurement outcomes\n",
    "  * `StateVectorSimulator`: simulates a quantum circuit and returns the final statevector\n",
    "  * `UnitarySimulator`: simulates the unitary matrix for a quantum circuit\n",
    "  \n",
    "\n",
    "2. A `Noise` module containing advanced noise modeling features for the `QasmSimulator`:\n",
    "  * `NoiseModel` class for building custom noise models\n",
    "  * `Errors` submodule for constructing custom errors\n",
    "  * `Device` submodule for generating an automatic device noise model\n",
    "\n",
    "\n",
    "3. A `utils` module that will contain additional simulator utilities. (*For now this only contains `qobj_utils` which is designed to help with hacks that aren't yet supported by the Terra circuit API.*)"
   ]
  },
  {
   "cell_type": "markdown",
   "metadata": {
    "slideshow": {
     "slide_type": "fragment"
    }
   },
   "source": [
    "You saw an example of the `QasmSimulator` in use earlier. For examples of the `StateVectorSimulator` and `UnitarySimulator`, see the [simulators tutorial notebook](https://github.com/Qiskit/qiskit-tutorials/blob/master/qiskit/aer/aer_provider.ipynb)."
   ]
  },
  {
   "cell_type": "markdown",
   "metadata": {
    "slideshow": {
     "slide_type": "subslide"
    }
   },
   "source": [
    "## Qiskit Aer Noise Simulation\n",
    "\n",
    "The noise model contains Python classes to build customized noise models for simulation. It also contains functions to automatically generate a noise model. The automatic noise generation can be seen in the [device noise tutorial notebook](https://github.com/Qiskit/qiskit-tutorials/blob/master/qiskit/aer/device_noise_simulation.ipynb) and won't be covered here.\n",
    "\n",
    "The noise module contains three key classes:\n",
    "\n",
    "1. The `NoiseModel` class which stores a noise model used for noisy simulation\n",
    "2. The `QuantumError` class which describes errors that effect the state of qubits. These errors can be applied after gates or reset instructions, or before measure instructions.\n",
    "3. The `ReadoutError` class which describes errors that effect the state of memory bits, and is applied after measurements.\n",
    "\n",
    "The error classes are used to construct errors which may then be added to a `NoiseModel` to be applied to specific circuit instructions."
   ]
  },
  {
   "cell_type": "markdown",
   "metadata": {
    "slideshow": {
     "slide_type": "fragment"
    }
   },
   "source": [
    "### Standard Quantum Errors\n",
    "\n",
    "Rather than deal with the `QuantumError` object directly, many helper functions exist to automatically generate a specific type of parameterized quantum error. These are contained in the `noise.errors` submodule and include functions for many common errors types used in quantum computing research. The function names and the type of error they return are:\n",
    "\n",
    "| Standard error function | Details |\n",
    "| ---: | :--- |\n",
    "| `kraus_error` | a general n-qubit CPTP error channel given as a list of Kraus matrices $[K_0, ...]$. |\n",
    "| `mixed_unitary_error` | an n-qubit mixed unitary error given as a list of unitary matrices and probabilities $[(U_0, p_0),...]$. |\n",
    "| `coherent_unitary_error` | an n-qubit coherent unitary error given as a single unitary matrix $U$. |\n",
    "| `pauli_error` | an n-qubit Pauli error channel (mixed unitary) given as a list of Pauli's and probabilities $[(P_0, p_0),...]$ |\n",
    "| `depolarizing_error` | an n-qubit depolarizing error channel parameterized by a depolarizion probability $p$. |\n",
    "| `thermal_relaxation_error` | a single qubit thermal relaxation channel parameterized by relaxation time constants $T_1$, $T_2$, gate time $t$, and excited state thermal population $p_1$. |\n",
    "| `phase_amplitude_damping_error` | A single-qubit generalized combined phase and amplitude damping error channel given by an amplitude damping parameter $\\lambda$, a phase damping parameter $\\gamma$, and an excited state thermal population $p_1$. |\n",
    "| `amplitude_damping_error` |  A single-qubit generalized amplitude damping error channel given by an amplitude damping parameter $\\lambda$, and an excited state thermal population $p_1$. |\n",
    "| `phase_damping_error` |  A single-qubit phase damping error channel given by a phase damping parameter $\\gamma$ |"
   ]
  },
  {
   "cell_type": "markdown",
   "metadata": {
    "slideshow": {
     "slide_type": "subslide"
    }
   },
   "source": [
    "### Error example: Depolarizing errors\n",
    "\n",
    "For example to construct a 5% single-qubit depolarizing error:"
   ]
  },
  {
   "cell_type": "code",
   "execution_count": 20,
   "metadata": {
    "slideshow": {
     "slide_type": "-"
    }
   },
   "outputs": [],
   "source": [
    "# Import all standard error objects\n",
    "from qiskit.providers.aer.noise import NoiseModel\n",
    "from qiskit.providers.aer.noise.errors import *"
   ]
  },
  {
   "cell_type": "code",
   "execution_count": 21,
   "metadata": {
    "slideshow": {
     "slide_type": "-"
    }
   },
   "outputs": [
    {
     "name": "stdout",
     "output_type": "stream",
     "text": [
      "QuantumError on 1 qubits. Noise circuits:\n",
      "  P(0) = 0.0125, QobjInstructions = [[{'name': 'x', 'qubits': [0]}]\n",
      "  P(1) = 0.0125, QobjInstructions = [[{'name': 'y', 'qubits': [0]}]\n",
      "  P(2) = 0.0125, QobjInstructions = [[{'name': 'z', 'qubits': [0]}]\n",
      "  P(3) = 0.9625, QobjInstructions = [[{'name': 'id', 'qubits': [0]}]\n"
     ]
    }
   ],
   "source": [
    "# Construct a 1-qubit depolarizing error\n",
    "depol1 = depolarizing_error(0.05, 1, standard_gates=True) \n",
    "print(depol1)"
   ]
  },
  {
   "cell_type": "markdown",
   "metadata": {
    "slideshow": {
     "slide_type": "-"
    }
   },
   "source": [
    "Next we need to add the error to a noise model."
   ]
  },
  {
   "cell_type": "markdown",
   "metadata": {
    "slideshow": {
     "slide_type": "subslide"
    }
   },
   "source": [
    "### Adding errors to a Noise Model\n",
    "\n",
    "When adding a quantum error to a noise model we must specify the type of *instruction* that it acts on, and what qubits to apply it to. There are three cases for Quantum Errors:\n",
    " \n",
    " 1. All-qubit quantum error\n",
    " 2. Specific qubit quantum error\n",
    " 3. Non-local quantum error"
   ]
  },
  {
   "cell_type": "markdown",
   "metadata": {
    "slideshow": {
     "slide_type": "fragment"
    }
   },
   "source": [
    "#### All-qubit quantum error\n",
    "\n",
    "This applies the same error to any occurence of an instruciton, regardless of which qubits it acts on.\n",
    "\n",
    "It is added as `noise_model.add_all_qubit_quantum_error(error, instructions)`:"
   ]
  },
  {
   "cell_type": "code",
   "execution_count": 22,
   "metadata": {
    "slideshow": {
     "slide_type": "-"
    }
   },
   "outputs": [
    {
     "name": "stdout",
     "output_type": "stream",
     "text": [
      "NoiseModel:\n",
      "  Instructions with noise: ['u2', 'u3', 'u1']\n",
      "  All-qubits errors: ['u1', 'u2', 'u3']\n"
     ]
    }
   ],
   "source": [
    "# Create an empty noise model\n",
    "noise_model = NoiseModel()\n",
    "\n",
    "# Add depolarizing error to all single qubit u1, u2, u3 gates\n",
    "noise_model.add_all_qubit_quantum_error(depol1, ['u1', 'u2', 'u3'])\n",
    "\n",
    "# Print noise model info\n",
    "print(noise_model)"
   ]
  },
  {
   "cell_type": "markdown",
   "metadata": {
    "slideshow": {
     "slide_type": "fragment"
    }
   },
   "source": [
    "\n",
    "#### Specific qubit quantum error\n",
    "\n",
    "This applies the error to any occurence of an instruction acting on a specified list of qubits. Note that the order of the qubit matters: For a 2-qubit gate an error applied to qubits [0, 1] is different to one applied to qubits [1, 0] for example.\n",
    "\n",
    "It is added as `noise_model.add_quantum_error(error, instructions, qubits)`:"
   ]
  },
  {
   "cell_type": "code",
   "execution_count": 23,
   "metadata": {
    "slideshow": {
     "slide_type": "-"
    }
   },
   "outputs": [
    {
     "name": "stdout",
     "output_type": "stream",
     "text": [
      "NoiseModel:\n",
      "  Instructions with noise: ['u2', 'u3', 'u1']\n",
      "  Specific qubit errors: [('u1', [0]), ('u2', [0]), ('u3', [0])]\n"
     ]
    }
   ],
   "source": [
    "# Create an empty noise model\n",
    "noise_model = NoiseModel()\n",
    "\n",
    "# Add depolarizing error to all single qubit u1, u2, u3 gates on qubit 0 only\n",
    "noise_model.add_quantum_error(depol1, ['u1', 'u2', 'u3'], [0])\n",
    "\n",
    "# Print noise model info\n",
    "print(noise_model)"
   ]
  },
  {
   "cell_type": "markdown",
   "metadata": {
    "slideshow": {
     "slide_type": "fragment"
    }
   },
   "source": [
    "#### Non-local qubit quantum error\n",
    "\n",
    "This applies an error to a specific set of noise qubits after any occurence of an instruction acting on a specific of gate qubits.\n",
    "\n",
    "It is added as `noise_model.add_quantum_error(error, instructions, instr_qubits, error_qubits)`:"
   ]
  },
  {
   "cell_type": "code",
   "execution_count": 24,
   "metadata": {
    "slideshow": {
     "slide_type": "-"
    }
   },
   "outputs": [
    {
     "name": "stdout",
     "output_type": "stream",
     "text": [
      "NoiseModel:\n",
      "  Instructions with noise: ['u2', 'u3', 'u1']\n",
      "  Non-local specific qubit errors: [('u1', [0], [2]), ('u2', [0], [2]), ('u3', [0], [2])]\n"
     ]
    }
   ],
   "source": [
    "# Create an empty noise model\n",
    "noise_model = NoiseModel()\n",
    "\n",
    "# Add depolarizing error on qubit 2 forall single qubit u1, u2, u3 gates on qubit 0 \n",
    "noise_model.add_nonlocal_quantum_error(depol1, ['u1', 'u2', 'u3'], [0], [2])\n",
    " \n",
    "# Print noise model info\n",
    "print(noise_model)"
   ]
  },
  {
   "cell_type": "markdown",
   "metadata": {
    "slideshow": {
     "slide_type": "subslide"
    }
   },
   "source": [
    "### Noise Model Example: Bit-flip error model\n",
    "\n",
    "Let's consider a simple toy noise model example common in quantum information theory research:\n",
    "\n",
    "* When applying a single qubit gate, flip the state of the qubit with probability `p_gate1`.\n",
    "* When applying a 2-qubit gate apply single-qubit errors to each qubit.\n",
    "* When reseting a qubit reset to 1 instead of 0 with probability `p_reset`.\n",
    "* When measuring a qubit, flip the state of the qubit before with probability `p_meas`."
   ]
  },
  {
   "cell_type": "code",
   "execution_count": 25,
   "metadata": {},
   "outputs": [
    {
     "name": "stdout",
     "output_type": "stream",
     "text": [
      "NoiseModel:\n",
      "  Instructions with noise: ['reset', 'u2', 'u3', 'measure', 'u1', 'cx']\n",
      "  All-qubits errors: ['reset', 'measure', 'u1', 'u2', 'u3', 'cx']\n"
     ]
    }
   ],
   "source": [
    "# Example error probabilities\n",
    "p_gate1 = 0.05\n",
    "p_reset = 0.03\n",
    "p_meas = 0.1\n",
    "\n",
    "# QuantumError objects\n",
    "error_reset = pauli_error([('X', p_reset), ('I', 1 - p_reset)])\n",
    "error_meas = pauli_error([('X',p_meas), ('I', 1 - p_meas)])\n",
    "error_gate1 = pauli_error([('X',p_gate1), ('I', 1 - p_gate1)])\n",
    "error_gate2 = error_gate1.kron(error_gate1)\n",
    "\n",
    "# Add errors to noise model\n",
    "noise_model = NoiseModel()\n",
    "noise_model.add_all_qubit_quantum_error(error_reset, \"reset\")\n",
    "noise_model.add_all_qubit_quantum_error(error_meas, \"measure\")\n",
    "noise_model.add_all_qubit_quantum_error(error_gate1, [\"u1\", \"u2\", \"u3\"])\n",
    "noise_model.add_all_qubit_quantum_error(error_gate2, [\"cx\"])\n",
    "\n",
    "print(noise_model)"
   ]
  },
  {
   "cell_type": "markdown",
   "metadata": {
    "slideshow": {
     "slide_type": "fragment"
    }
   },
   "source": [
    "Now we have built a noise model, we need to execute it. Attaching a noise model to a simulation is done using the `noise_model` keyword argument.\n",
    "\n",
    "**Important:** *When running a noisy simulation make sure you compile your qobj to the same basis gates as the noise model!*\n",
    "\n",
    "This can be done using `noise_model.basis_gates`:"
   ]
  },
  {
   "cell_type": "code",
   "execution_count": 26,
   "metadata": {
    "scrolled": true
   },
   "outputs": [
    {
     "data": {
      "image/png": "[encoded data removed]",
      "text/plain": [
       "<Figure size 504x360 with 1 Axes>"
      ]
     },
     "execution_count": 26,
     "metadata": {},
     "output_type": "execute_result"
    }
   ],
   "source": [
    "from qiskit.providers.aer import QasmSimulator\n",
    "from qiskit import compile\n",
    "\n",
    "# Compile previous Bell circuit using noise model basis gates\n",
    "noise_qobj = compile(bell_circuit, simulator, basis_gates=noise_model.basis_gates)\n",
    "\n",
    "# Run the noisy simulation\n",
    "noise_result = simulator.run(noise_qobj, noise_model=noise_model).result()\n",
    "noise_counts = noise_result.get_counts(bell_circuit)\n",
    "plot_histogram([noise_counts,sim_counts])"
   ]
  },
  {
   "cell_type": "markdown",
   "metadata": {
    "slideshow": {
     "slide_type": "slide"
    }
   },
   "source": [
    "# Qiskit Aqua\n",
    "<img src=\"https://cdn-images-1.medium.com/max/896/1*wfBylzNphPJtCAHHE2x0AA.png\" width=\"1500 px\" align=\"center\">"
   ]
  },
  {
   "cell_type": "markdown",
   "metadata": {
    "slideshow": {
     "slide_type": "fragment"
    }
   },
   "source": [
    "Aqua is:\n",
    "\n",
    "  * An easy to use library for running many different quantum algorithms\n",
    "  * A collection of reusable components which can be mixed and matched in different algorithms\n",
    "\n",
    "Aqua is very practically driven:\n",
    "  * We have real chemists and clients who are trying to get things done\n",
    "  * It is exactly what you’d expect to spring out of rapid practical need… it is very function-driven and evolves rapidly\n",
    "  * The guts are not so inviting in some places because of how rapidly it evolves and because of how it is engineered and optimised\n",
    "  * If you need to do something, there is a good chance someone already put it in Aqua or should\n",
    "    - Please send in feature requests!\n",
    "\n",
    "Aqua is built to be highly extensible and have very easy to use interfaces\n"
   ]
  },
  {
   "cell_type": "markdown",
   "metadata": {
    "slideshow": {
     "slide_type": "-"
    }
   },
   "source": [
    "Aqua organises reusable components into buckets, elements of which can be substituted for one another:\n",
    "\n",
    "  * Algorithms\n",
    "  * Variational forms\n",
    "  * Optimisers\n",
    "  * Other smaller buckets (translators, QFTs, oracles, feature maps)\n",
    "\n",
    "It is not so much a “I give you parameters, you give me back a circuit” library, because in most cases, running the algorithms is much more than just executing the circuit (e.g. VQE, q-kernel SVM, etc.)\n",
    "\n",
    "It’s not even so much about “give me x component,” it’s more “execute this algorithm, with this set of components,” allowing you to mix and match or add your own components easily\n",
    "\n",
    "There are many [tests](https://github.com/Qiskit/qiskit-aqua/tree/master/test), which give good examples of execution modes and components, as well as tutorials in the qiskit-tutorials repository in the [qiskit](https://github.com/Qiskit/qiskit-tutorials/tree/master/qiskit/aqua) and [community](https://github.com/Qiskit/qiskit-tutorials/tree/master/community/aqua) folders. \n",
    "\n",
    "To really understand what's going on under the covers, get an IDE and step through the code!"
   ]
  },
  {
   "cell_type": "markdown",
   "metadata": {
    "slideshow": {
     "slide_type": "subslide"
    }
   },
   "source": [
    "## Quantum Machine Learning with Support Vector Machines\n",
    "\n",
    "**Q-Kernel SVM:** We use a standard classical SVM with a “quantum kernel.” The kernel is an $n \\times n$ matrix ($n$ is the number of training samples), where matrix element $m, p$ is generated by running short variational circuits of the form $⟨$ variational_form($m$) $|$ variational_form($p$) $⟩$ for every point $m, p$ in the training set. Note that a single point $m$ is a list of features. This kernel extends the reach of the feature space beyond what we believe is possible classically.\n",
    "\n",
    "**Q-Variational SVM:** To train, we input a sample as the initial state of a short variational circuit, with parameters, and read the result (mod $2$) to find the circuit’s classification. We optimise the parameters of the variational circuit classically to improve the model’s classification accuracy. For more information, see this [paper](https://arxiv.org/abs/1804.11326). *Warning: the variational svm can be very slow to converge.*\n",
    "\n"
   ]
  },
  {
   "cell_type": "markdown",
   "metadata": {
    "slideshow": {
     "slide_type": "fragment"
    }
   },
   "source": [
    "Let's attempt to fit a very nonlinear function, $f(x,y) = x \\times y$:"
   ]
  },
  {
   "cell_type": "code",
   "execution_count": 27,
   "metadata": {},
   "outputs": [
    {
     "data": {
      "text/plain": [
       "<mpl_toolkits.mplot3d.art3d.Poly3DCollection at 0x1276e0e10>"
      ]
     },
     "execution_count": 27,
     "metadata": {},
     "output_type": "execute_result"
    },
    {
     "data": {
      "image/png": "[encoded data removed]",
      "text/plain": [
       "<Figure size 432x288 with 1 Axes>"
      ]
     },
     "metadata": {
      "needs_background": "light"
     },
     "output_type": "display_data"
    }
   ],
   "source": [
    "import matplotlib.pyplot as plt\n",
    "\n",
    "def f(x, y):\n",
    "    return x * y\n",
    "\n",
    "x = np.linspace(-10, 10, 20)\n",
    "y = np.linspace(-10, 10, 20)\n",
    "\n",
    "X, Y = np.meshgrid(x, y)\n",
    "Z = f(X, Y)\n",
    "\n",
    "ax = plt.axes(projection='3d')\n",
    "ax.plot_surface(X, Y, Z, rstride=1, cstride=1, cmap='viridis', edgecolor='none')"
   ]
  },
  {
   "cell_type": "markdown",
   "metadata": {
    "slideshow": {
     "slide_type": "subslide"
    }
   },
   "source": [
    "First we need to create the training and test data:"
   ]
  },
  {
   "cell_type": "code",
   "execution_count": 28,
   "metadata": {},
   "outputs": [
    {
     "name": "stdout",
     "output_type": "stream",
     "text": [
      "{'greater': [[-0.9443972823233178, -0.41362403892103217], [-0.7913400235127677, -0.2336552348339167], [0.9861522582372322, 0.02769464406899802], [0.31976111378867245, 0.26756423295141785], [0.5948303792110496, 0.49018930234106595], [-0.6282086348615583, -0.875632390353202], [-0.24008101821956052, -0.10622253003181648], [0.5174425082519227, 0.5987036015506748], [-0.8605978613694598, -0.6958569507930179], [-0.9469590034658733, -0.6882832955614406], [0.7959177077994788, 0.5128571714309824], [0.34038286908439397, 0.3882137729615942], [-0.24030066926027138, -0.49361169385815185], [0.9765315829440895, 0.7845363181189542], [0.6357316527877896, 0.4748075577015882], [-0.40484967563369123, -0.2071134637834311], [0.529374266531089, 0.9003844973805977], [0.9381077466391632, 0.8712399530766262], [-0.3602692307379325, -0.6076744903583735], [0.02393060559566118, 0.9905137983209906], [-0.6042832675263923, -0.4358890051199016], [-0.7131162296729239, -0.4918977581403656], [-0.3236496895990406, -0.37165915881669465], [0.8528264259417855, 0.014180321736951385], [0.9201440381118775, 0.7170291942133966]], 'less': [[0.5777428728202152, -0.39874004573593536], [-0.46476705851653266, 0.6921650126142325], [-0.2464344231571869, 0.9045165677964726], [0.32058820622125217, -0.9453495305371085], [-0.6438080346651869, 0.8268899414782791], [0.5760883635062737, -0.47232167670416847], [-0.7249746515177975, 0.8592295114712183], [0.6008701150999161, -0.4257037425304684], [0.5857016700174718, -0.5969535042148728], [-0.49895111816119764, 0.9092333635588379], [0.5788299391995462, -0.042913992766164144], [0.44869201554496474, -0.6264682840563669], [-0.5595887439182485, 0.35197827784474134], [0.8597464495117928, -0.4453144639543387], [0.3220848762706108, -0.33589996503603814], [-0.9280431399914262, 0.1750475832779037], [0.01251781932031415, -0.15124426535216995], [0.06789921771293828, -0.15471045518466742], [-0.9901907029978723, 0.007844092157671678], [-0.8776339854417441, 0.9733130049836494], [-0.506820803292455, 0.9663929195562575], [-0.36099145295733925, 0.6208118764871209], [-0.6641014285431814, 0.828016931743679], [0.1260919799184943, -0.7935040897516672], [-0.14384994742765245, 0.42472676568020096]]}\n",
      "\n",
      "{'greater': [[0.47038378574068185, 0.3618904559365157], [-0.959784015412956, -0.5259993462817301], [-0.08081633282315948, -0.632079798833721], [-0.8888210082876777, -0.31046222028845727], [-0.6732329189343178, -0.01564645759851091], [-0.5985735381206327, -0.6970312358597757], [0.028800031586816877, 0.489035083116903], [-0.0705105472805625, -0.7613839278972887], [0.16804516187662322, 0.8330530863544281], [-0.6083146080740216, -0.6450573719049633], [-0.6208041667319857, -0.8272258698005983]], 'less': [[0.458249028379879, -0.9028067516207527], [0.19968531165865278, -0.80101492870454], [0.04594295386717406, -0.9165994561405439], [0.038235219631662876, -0.13248328638539064], [-0.9068746496384312, 0.8767425111987623], [-0.08605429835427514, 0.17896923692482458], [-0.46091610217019396, 0.9485961074171394], [0.3972235470301162, -0.5141413370621988], [0.24634686159468622, -0.7283541250170846]]}\n"
     ]
    }
   ],
   "source": [
    "train_size = 50\n",
    "test_size = 20\n",
    "\n",
    "x_trn = (np.random.random(train_size)*2)-1\n",
    "y_trn = (np.random.random(train_size)*2)-1\n",
    "greater = [[x,y] for x,y in zip(x_trn,y_trn) if x*y >=0]\n",
    "less = [[x,y] for x,y in zip(x_trn,y_trn) if x*y < 0]\n",
    "training_data = {\"greater\": greater, \"less\":less}\n",
    "\n",
    "x_tst = (np.random.random(test_size)*2)-1\n",
    "y_tst = (np.random.random(test_size)*2)-1\n",
    "greater = [[x,y] for x,y in zip(x_tst,y_tst) if x*y >=0]\n",
    "less = [[x,y] for x,y in zip(x_tst,y_tst) if x*y < 0]\n",
    "test_data = {\"greater\": greater, \"less\":less}\n",
    "\n",
    "print(training_data)\n",
    "print()\n",
    "print(test_data)"
   ]
  },
  {
   "cell_type": "markdown",
   "metadata": {
    "slideshow": {
     "slide_type": "subslide"
    }
   },
   "source": [
    "Now let's use the data to train and then test the Qiskit Aqua `QSVMKernel` and `QSVMVariational` algorithms:"
   ]
  },
  {
   "cell_type": "code",
   "execution_count": 29,
   "metadata": {
    "slideshow": {
     "slide_type": "-"
    }
   },
   "outputs": [],
   "source": [
    "from qiskit_aqua import run_algorithm\n",
    "from qiskit_aqua.input import SVMInput\n",
    "from qiskit_aqua.algorithms import QSVMKernel\n",
    "from qiskit_aqua.algorithms import QSVMVariational\n",
    "import time"
   ]
  },
  {
   "cell_type": "code",
   "execution_count": 30,
   "metadata": {},
   "outputs": [],
   "source": [
    "def aqua_qksvm_score(training_data, test_data, shots=1024):\n",
    "    qksvm_params = {\n",
    "        'problem':   {'name': 'svm_classification', 'random_seed': 10598},\n",
    "        'algorithm': {'name': 'QSVM.Kernel'},\n",
    "        'backend':   {'name': 'ibmq_qasm_simulator', 'shots': shots},\n",
    "    }\n",
    "    qksvm_input = SVMInput(training_data, test_data)\n",
    "    t0 = time.process_time()\n",
    "    kernel_result = run_algorithm(qksvm_params, qksvm_input)\n",
    "    t1 = time.process_time()\n",
    "    return kernel_result, (t1 - t0)/60"
   ]
  },
  {
   "cell_type": "code",
   "execution_count": 31,
   "metadata": {
    "slideshow": {
     "slide_type": "-"
    }
   },
   "outputs": [
    {
     "name": "stdout",
     "output_type": "stream",
     "text": [
      "Classification success: 75.0%\n",
      "Process time:   3.21 minutes\n"
     ]
    }
   ],
   "source": [
    "qksvm_result, qksvm_time = aqua_qksvm_score(training_data, test_data)\n",
    "print(\"Classification success: {}%\".format(qksvm_result['test_success_ratio'] * 100))\n",
    "print(\"Process time: {0:6.2f} minutes\".format(qksvm_time))"
   ]
  },
  {
   "cell_type": "code",
   "execution_count": 32,
   "metadata": {},
   "outputs": [],
   "source": [
    "def aqua_variational_svm_score(training_data, test_data, shots=1024):\n",
    "    variational_params = {\n",
    "        'problem': {'name': 'svm_classification', 'random_seed': 10598},\n",
    "        'algorithm': {'name': 'QSVM.Variational'},\n",
    "        'backend':   {'name': 'ibmq_qasm_simulator', 'shots': shots},\n",
    "        'optimizer': {'name': 'SPSA', 'max_trials': 200, 'save_steps': 1},\n",
    "        'variational_form': {'name': 'RYRZ', 'depth': 3},\n",
    "        'feature_map': {'name': 'SecondOrderExpansion', 'depth': 2}\n",
    "    }\n",
    "    variational_input = SVMInput(training_data, test_data)\n",
    "    t0 = time.process_time()\n",
    "    variational_result = run_algorithm(variational_params, variational_input)\n",
    "    t1 = time.process_time()\n",
    "    return variational_result, (t1 - t0)/60"
   ]
  },
  {
   "cell_type": "code",
   "execution_count": 36,
   "metadata": {
    "slideshow": {
     "slide_type": "-"
    }
   },
   "outputs": [
    {
     "name": "stdout",
     "output_type": "stream",
     "text": [
      "Classification success: 70.0%\n",
      "Process time:  25.23 minutes\n"
     ]
    }
   ],
   "source": [
    "variational_result, variational_time = aqua_variational_svm_score(training_data, test_data)\n",
    "print(\"Classification success: {}%\".format(variational_result['test_success_ratio'] * 100))\n",
    "print(\"Process time: {0:6.2f} minutes\".format(variational_time))"
   ]
  },
  {
   "cell_type": "markdown",
   "metadata": {
    "slideshow": {
     "slide_type": "subslide"
    }
   },
   "source": [
    "Compare to classical SVMs:"
   ]
  },
  {
   "cell_type": "code",
   "execution_count": 34,
   "metadata": {
    "slideshow": {
     "slide_type": "-"
    }
   },
   "outputs": [],
   "source": [
    "from sklearn import svm\n",
    "\n",
    "def classical_svm_score(samples_tr, labels_tr, samples_te, labels_te, kernel='linear'):\n",
    "    model = svm.SVC(kernel=kernel,gamma='scale')\n",
    "    model.fit(samples_tr, labels_tr)\n",
    "    return model.score(samples_te, labels_te)"
   ]
  },
  {
   "cell_type": "code",
   "execution_count": 35,
   "metadata": {
    "slideshow": {
     "slide_type": "-"
    }
   },
   "outputs": [
    {
     "name": "stdout",
     "output_type": "stream",
     "text": [
      "{'rbf': 0.9, 'linear': 0.3, 'poly': 0.65, 'sigmoid': 0.45}\n"
     ]
    }
   ],
   "source": [
    "samples_train = list(zip(x_trn, y_trn))\n",
    "samples_test = list(zip(x_tst, y_tst))\n",
    "labels_train = [x*y>=0 for [x,y] in samples_train]\n",
    "labels_test = [x*y>0 for [x,y] in samples_test]\n",
    "\n",
    "score = {'rbf':[], 'linear':[], 'poly':[], 'sigmoid':[]}\n",
    "for key in score:\n",
    "    score[key] = classical_svm_score(samples_train, labels_train, samples_test, labels_test, kernel=key)\n",
    "print(score)"
   ]
  },
  {
   "cell_type": "markdown",
   "metadata": {
    "slideshow": {
     "slide_type": "slide"
    }
   },
   "source": [
    "# Learning More\n",
    "\n",
    "The [qiskit-tutorial](https://github.com/Qiskit/qiskit-tutorials) repository on Github has dozens of thoughtful and sophisticated tutorials. I highly recommend going through both the [qiskit](https://github.com/Qiskit/qiskit-tutorials/tree/master/qiskit) and [community](https://github.com/Qiskit/qiskit-tutorials/tree/master/community) directories. I learn new things every time I look through them, and reference them regularly.\n",
    "\n",
    "The order in which I investigate if I'm confused about something:\n",
    "* Look at the [tutorials](https://github.com/Qiskit/qiskit-tutorials/) for an example\n",
    "* Look at the [code](https://github.com/Qiskit/qiskit-terra/tree/master/qiskit) directly to understand the behavior\n",
    "* Look at the [examples](https://github.com/Qiskit/qiskit-terra/tree/master/examples) or [tests](https://github.com/Qiskit/qiskit-terra/tree/master/test) for something similar\n",
    "* Debug in my IDE (many IBM researchers use [PyCharm](https://www.jetbrains.com/pycharm/)), relying heavily on inspecting objects during execution"
   ]
  },
  {
   "cell_type": "markdown",
   "metadata": {
    "slideshow": {
     "slide_type": "fragment"
    }
   },
   "source": [
    "Good luck and have fun using Qiskit!"
   ]
  }
 ],
 "metadata": {
  "celltoolbar": "Slideshow",
  "kernelspec": {
   "display_name": "Python [conda env:qiskit]",
   "language": "python",
   "name": "conda-env-qiskit-py"
  },
  "language_info": {
   "codemirror_mode": {
    "name": "ipython",
    "version": 3
   },
   "file_extension": ".py",
   "mimetype": "text/x-python",
   "name": "python",
   "nbconvert_exporter": "python",
   "pygments_lexer": "ipython3",
   "version": "3.7.1"
  }
 },
 "nbformat": 4,
 "nbformat_minor": 2
}
